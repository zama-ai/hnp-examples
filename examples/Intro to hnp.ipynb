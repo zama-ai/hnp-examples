{
 "cells": [
  {
   "cell_type": "markdown",
   "metadata": {},
   "source": [
    "## Quick intro to the homomorphic numpy\n",
    "\n",
    "Numpy is the fundamental library for operating on arrays in Python. Its central data structure, a multidimensional array called an `ndarray` (for n-dimension array, also known as a tensor), allows programmers to express a variety of scientific computations.\n",
    "\n",
    "The homomorphic numpy allows us to create a [homomorphic](https://en.wikipedia.org/wiki/Homomorphic_encryption) version of functions operating on `ndarray`s - that is, to operate on encrypted data. Therefore we can receive encrypted data, apply computations on it, send the result back to the user who has the secret key, and the user will be able to get an approximation of applying our function to her data, without ever revealing the contents of her information to us. Therefore the homomorphic numpy ultimately gives us the ability to create programs for private computation, without any previous knowledge of the intricacies of homomorphic encryption.\n",
    "\n",
    "Let's start with a simple example: imagine that a user wants to know the distance between two points on Earth, but they don't know how to calculate it, nor do they want to reveal these two points; we, on the other hand, know how to compute it, and we want to calculate it for the user. We will start by computing it \"in the clear\" (that is, over non-encrypted data) and then we'll use the homomorphic numpy to seamlessly transform the function into a homomorphic equivalent."
   ]
  },
  {
   "cell_type": "code",
   "execution_count": 1,
   "metadata": {},
   "outputs": [],
   "source": [
    "import numpy as np\n",
    "import pandas as pd"
   ]
  },
  {
   "cell_type": "code",
   "execution_count": 2,
   "metadata": {},
   "outputs": [],
   "source": [
    "def distance_on_earth(lat1, lon1, lat2, lon2):\n",
    "    \"\"\" Given arrays of latitudes and longitudes for pairs of points, calculate their distances in km \"\"\"\n",
    "    lat1, lon1, lat2, lon2 = map(np.radians, [lat1, lon1, lat2, lon2])\n",
    "    dlon = lon2 - lon1\n",
    "    dlat = lat2 - lat1\n",
    "    a = np.sin(dlat/2)**2 + np.cos(lat1) * np.cos(lat2) * np.sin(dlon/2.0)**2\n",
    "    c = 2 * np.arcsin(np.sqrt(a))\n",
    "    km = 6367 * c\n",
    "    return km"
   ]
  },
  {
   "cell_type": "markdown",
   "metadata": {},
   "source": [
    "![Alt Text](https://media.giphy.com/media/VI2UC13hwWin1MIfmi/giphy.gif)"
   ]
  },
  {
   "cell_type": "markdown",
   "metadata": {},
   "source": [
    "First, let's check our function with some randomly generated values. We generate 4 columns (for latitude and longitude of each point) and 10 rows, for 10 pairs of points."
   ]
  },
  {
   "cell_type": "code",
   "execution_count": 3,
   "metadata": {},
   "outputs": [
    {
     "data": {
      "text/html": [
       "<div>\n",
       "<style scoped>\n",
       "    .dataframe tbody tr th:only-of-type {\n",
       "        vertical-align: middle;\n",
       "    }\n",
       "\n",
       "    .dataframe tbody tr th {\n",
       "        vertical-align: top;\n",
       "    }\n",
       "\n",
       "    .dataframe thead th {\n",
       "        text-align: right;\n",
       "    }\n",
       "</style>\n",
       "<table border=\"1\" class=\"dataframe\">\n",
       "  <thead>\n",
       "    <tr style=\"text-align: right;\">\n",
       "      <th></th>\n",
       "      <th>Latitude 1</th>\n",
       "      <th>Longitude 1</th>\n",
       "      <th>Latitude 2</th>\n",
       "      <th>Longitude 2</th>\n",
       "      <th>Distances</th>\n",
       "    </tr>\n",
       "  </thead>\n",
       "  <tbody>\n",
       "    <tr>\n",
       "      <th>0</th>\n",
       "      <td>-9.086267</td>\n",
       "      <td>87.570633</td>\n",
       "      <td>17.792048</td>\n",
       "      <td>-58.723551</td>\n",
       "      <td>16240.092433</td>\n",
       "    </tr>\n",
       "    <tr>\n",
       "      <th>1</th>\n",
       "      <td>55.503799</td>\n",
       "      <td>-60.437526</td>\n",
       "      <td>-26.811880</td>\n",
       "      <td>71.083053</td>\n",
       "      <td>14999.274963</td>\n",
       "    </tr>\n",
       "    <tr>\n",
       "      <th>2</th>\n",
       "      <td>-5.199806</td>\n",
       "      <td>-15.490673</td>\n",
       "      <td>59.243731</td>\n",
       "      <td>-20.169276</td>\n",
       "      <td>7173.266290</td>\n",
       "    </tr>\n",
       "    <tr>\n",
       "      <th>3</th>\n",
       "      <td>-14.467531</td>\n",
       "      <td>-85.519872</td>\n",
       "      <td>57.804146</td>\n",
       "      <td>-17.004837</td>\n",
       "      <td>10144.250606</td>\n",
       "    </tr>\n",
       "    <tr>\n",
       "      <th>4</th>\n",
       "      <td>-77.722570</td>\n",
       "      <td>-0.056495</td>\n",
       "      <td>-34.578784</td>\n",
       "      <td>-52.283388</td>\n",
       "      <td>5396.515919</td>\n",
       "    </tr>\n",
       "    <tr>\n",
       "      <th>5</th>\n",
       "      <td>-35.796308</td>\n",
       "      <td>-80.514457</td>\n",
       "      <td>-46.511631</td>\n",
       "      <td>49.893352</td>\n",
       "      <td>9602.968944</td>\n",
       "    </tr>\n",
       "    <tr>\n",
       "      <th>6</th>\n",
       "      <td>57.771526</td>\n",
       "      <td>67.430424</td>\n",
       "      <td>9.290876</td>\n",
       "      <td>-18.820117</td>\n",
       "      <td>8907.196812</td>\n",
       "    </tr>\n",
       "    <tr>\n",
       "      <th>7</th>\n",
       "      <td>51.059744</td>\n",
       "      <td>25.154466</td>\n",
       "      <td>6.600306</td>\n",
       "      <td>-54.976815</td>\n",
       "      <td>8742.537447</td>\n",
       "    </tr>\n",
       "    <tr>\n",
       "      <th>8</th>\n",
       "      <td>17.299643</td>\n",
       "      <td>28.253212</td>\n",
       "      <td>-49.355876</td>\n",
       "      <td>-15.967796</td>\n",
       "      <td>8588.653550</td>\n",
       "    </tr>\n",
       "    <tr>\n",
       "      <th>9</th>\n",
       "      <td>-56.782694</td>\n",
       "      <td>44.149498</td>\n",
       "      <td>-66.372631</td>\n",
       "      <td>-53.255919</td>\n",
       "      <td>4714.404585</td>\n",
       "    </tr>\n",
       "  </tbody>\n",
       "</table>\n",
       "</div>"
      ],
      "text/plain": [
       "   Latitude 1  Longitude 1  Latitude 2  Longitude 2     Distances\n",
       "0   -9.086267    87.570633   17.792048   -58.723551  16240.092433\n",
       "1   55.503799   -60.437526  -26.811880    71.083053  14999.274963\n",
       "2   -5.199806   -15.490673   59.243731   -20.169276   7173.266290\n",
       "3  -14.467531   -85.519872   57.804146   -17.004837  10144.250606\n",
       "4  -77.722570    -0.056495  -34.578784   -52.283388   5396.515919\n",
       "5  -35.796308   -80.514457  -46.511631    49.893352   9602.968944\n",
       "6   57.771526    67.430424    9.290876   -18.820117   8907.196812\n",
       "7   51.059744    25.154466    6.600306   -54.976815   8742.537447\n",
       "8   17.299643    28.253212  -49.355876   -15.967796   8588.653550\n",
       "9  -56.782694    44.149498  -66.372631   -53.255919   4714.404585"
      ]
     },
     "execution_count": 3,
     "metadata": {},
     "output_type": "execute_result"
    }
   ],
   "source": [
    "nb_cities = 10\n",
    "lat_1, lon_1, lat_2, lon_2 = np.random.uniform(-90, 90, size=(4, nb_cities))\n",
    "distances = distance_on_earth(lat_1, lon_1, lat_2, lon_2)\n",
    "pd.DataFrame(data=np.vstack((lat_1, lon_1, lat_2, lon_2, distances,)).T, \n",
    "             columns=[\"Latitude 1\", \"Longitude 1\", \"Latitude 2\", \"Longitude 2\", \"Distances\"])"
   ]
  },
  {
   "cell_type": "markdown",
   "metadata": {},
   "source": [
    "Looks good! We now know the 10 distances for those random pairs of points. However, if we were to compute the distances for a user, she would need to reveal the points to us. Let's solve that by making the function homomophic! Let's start by import `hnumpy`:"
   ]
  },
  {
   "cell_type": "code",
   "execution_count": 4,
   "metadata": {},
   "outputs": [],
   "source": [
    "import hnumpy as hnp"
   ]
  },
  {
   "cell_type": "markdown",
   "metadata": {},
   "source": [
    "Now, we will call `compile_fhe()`, the function that will translate `distance_on_earth()` into its homomorphic equivalent. In the call to `compile_fhe()`, we will pass to it the name of the function being converted, and the types of the inputs for that function - in our case, each input will be an encrypted array, with a range of values between `-90` and `90`, with a shape of `(10)`"
   ]
  },
  {
   "cell_type": "code",
   "execution_count": 5,
   "metadata": {},
   "outputs": [
    {
     "name": "stderr",
     "output_type": "stream",
     "text": [
      "2021-09-21 08:49:15.378 | INFO     | hnumpy.convert:compile_fhe:381 - Compiling distance_on_earth into an FHE function\n",
      "2021-09-21 08:49:15.385 | INFO     | hnumpy.convert:compile_fhe:383 - Checking input and output\n",
      "2021-09-21 08:49:15.395 | INFO     | hnumpy.convert:compile_homomorphic:265 - Create target graph\n",
      "2021-09-21 08:49:15.406 | INFO     | hnumpy.convert:compile_homomorphic:270 - Optimize target graph with optimizer `heuristic`\n",
      "2021-09-21 08:49:15.770 | INFO     | hnumpy.convert:compile_homomorphic:284 - Correct encoding\n",
      "2021-09-21 08:49:15.774 | INFO     | hnumpy.convert:compile_homomorphic:290 - Create VM graph\n",
      "2021-09-21 08:49:15.786 | INFO     | hnumpy.convert:compile_homomorphic:306 - Return the result to the caller\n"
     ]
    }
   ],
   "source": [
    "homomorphic_distance_on_earth = hnp.compile_fhe(\n",
    "    distance_on_earth,\n",
    "    {\n",
    "    \"lat1\": hnp.encrypted_ndarray(bounds=(-90.0, 90.0), shape=(nb_cities,)),\n",
    "    \"lon1\": hnp.encrypted_ndarray(bounds=(-90.0, 90.0), shape=(nb_cities,)),\n",
    "    \"lat2\": hnp.encrypted_ndarray(bounds=(-90.0, 90.0), shape=(nb_cities,)),\n",
    "    \"lon2\": hnp.encrypted_ndarray(bounds=(-90.0, 90.0), shape=(nb_cities,)),\n",
    "    }\n",
    ")"
   ]
  },
  {
   "cell_type": "markdown",
   "metadata": {},
   "source": [
    "The `compile_fhe` takes a function as input and outputs a homomorphic equivalent of it. "
   ]
  },
  {
   "cell_type": "markdown",
   "metadata": {},
   "source": [
    "Now, we need to generate keys (private and public) for our FHE model. Remark that, depending on the FHE model, it may be more or less long."
   ]
  },
  {
   "cell_type": "code",
   "execution_count": 6,
   "metadata": {},
   "outputs": [
    {
     "name": "stderr",
     "output_type": "stream",
     "text": [
      "2021-09-21 08:49:19.058 | INFO     | hnumpy.client:keygen:28 - Creating 1 keyswitching key(s) and 1 bootstrapping key(s). This should take approximately 40 seconds (0.6666666666666666 minutes)\n"
     ]
    },
    {
     "name": "stdout",
     "output_type": "stream",
     "text": [
      "WARNING: You are currently using the software variant of concrete-csprng which does not have access to a hardware source of randomness. To ensure the security of your application, please arrange to provide a secret by using the `concrete_csprng::set_soft_rdseed_secret` function.\n",
      "WARNING: You are currently using the software variant of concrete-csprng which does not have access to a hardware source of randomness. To ensure the security of your application, please arrange to provide a secret by using the `concrete_csprng::set_soft_rdseed_secret` function.\n",
      "WARNING: You are currently using the software variant of concrete-csprng which does not have access to a hardware source of randomness. To ensure the security of your application, please arrange to provide a secret by using the `concrete_csprng::set_soft_rdseed_secret` function.\n",
      "WARNING: You are currently using the software variant of concrete-csprng which does not have access to a hardware source of randomness. To ensure the security of your application, please arrange to provide a secret by using the `concrete_csprng::set_soft_rdseed_secret` function.\n"
     ]
    },
    {
     "ename": "KeyboardInterrupt",
     "evalue": "",
     "output_type": "error",
     "traceback": [
      "\u001b[0;31m---------------------------------------------------------------------------\u001b[0m",
      "\u001b[0;31mKeyboardInterrupt\u001b[0m                         Traceback (most recent call last)",
      "\u001b[0;32m/tmp/ipykernel_22/3575363247.py\u001b[0m in \u001b[0;36m<module>\u001b[0;34m\u001b[0m\n\u001b[1;32m      1\u001b[0m \u001b[0mcontext\u001b[0m \u001b[0;34m=\u001b[0m \u001b[0mhomomorphic_distance_on_earth\u001b[0m\u001b[0;34m.\u001b[0m\u001b[0mcreate_context\u001b[0m\u001b[0;34m(\u001b[0m\u001b[0;34m)\u001b[0m\u001b[0;34m\u001b[0m\u001b[0;34m\u001b[0m\u001b[0m\n\u001b[0;32m----> 2\u001b[0;31m \u001b[0mkeys\u001b[0m \u001b[0;34m=\u001b[0m \u001b[0mcontext\u001b[0m\u001b[0;34m.\u001b[0m\u001b[0mkeygen\u001b[0m\u001b[0;34m(\u001b[0m\u001b[0;34m)\u001b[0m\u001b[0;34m\u001b[0m\u001b[0;34m\u001b[0m\u001b[0m\n\u001b[0m",
      "\u001b[0;32m/app/venv/lib/python3.8/site-packages/hnumpy/client.py\u001b[0m in \u001b[0;36mkeygen\u001b[0;34m(self, noiseless, null_mask, null_sk, keyring)\u001b[0m\n\u001b[1;32m     39\u001b[0m \u001b[0;34m\u001b[0m\u001b[0m\n\u001b[1;32m     40\u001b[0m         \u001b[0mstart_time\u001b[0m \u001b[0;34m=\u001b[0m \u001b[0mperf_counter\u001b[0m\u001b[0;34m(\u001b[0m\u001b[0;34m)\u001b[0m\u001b[0;34m\u001b[0m\u001b[0;34m\u001b[0m\u001b[0m\n\u001b[0;32m---> 41\u001b[0;31m         \u001b[0mclient_env\u001b[0m \u001b[0;34m=\u001b[0m \u001b[0mself\u001b[0m\u001b[0;34m.\u001b[0m\u001b[0mclient_params\u001b[0m\u001b[0;34m.\u001b[0m\u001b[0mkeygen\u001b[0m\u001b[0;34m(\u001b[0m\u001b[0mnoiseless\u001b[0m\u001b[0;34m,\u001b[0m \u001b[0mnull_mask\u001b[0m\u001b[0;34m,\u001b[0m \u001b[0mnull_sk\u001b[0m\u001b[0;34m,\u001b[0m \u001b[0mkeyring\u001b[0m\u001b[0;34m)\u001b[0m\u001b[0;34m\u001b[0m\u001b[0;34m\u001b[0m\u001b[0m\n\u001b[0m\u001b[1;32m     42\u001b[0m         \u001b[0mlogger\u001b[0m\u001b[0;34m.\u001b[0m\u001b[0mdebug\u001b[0m\u001b[0;34m(\u001b[0m\u001b[0;34mf\"Key creation time took {perf_counter() - start_time} seconds\"\u001b[0m\u001b[0;34m)\u001b[0m\u001b[0;34m\u001b[0m\u001b[0;34m\u001b[0m\u001b[0m\n\u001b[1;32m     43\u001b[0m \u001b[0;34m\u001b[0m\u001b[0m\n",
      "\u001b[0;31mKeyboardInterrupt\u001b[0m: "
     ]
    }
   ],
   "source": [
    "context = homomorphic_distance_on_earth.create_context()\n",
    "keys = context.keygen()"
   ]
  },
  {
   "cell_type": "markdown",
   "metadata": {},
   "source": [
    "From now on, we can just call `encrypt_and_run`, allowing us to make the same computations on encrypted data, without ever having access to the underlying information. The output of the function will also be encrypted, and whoever has the corresponding secret key can decrypt it."
   ]
  },
  {
   "cell_type": "markdown",
   "metadata": {},
   "source": [
    "Now, let's start the FHE experience. On her device, with her private key, the user can encrypt data, with her private key"
   ]
  },
  {
   "cell_type": "code",
   "execution_count": 7,
   "metadata": {},
   "outputs": [],
   "source": [
    "encrypted_lat_1, encrypted_lon_1, encrypted_lat_2, encrypted_lon_2 = keys.encrypt(lat_1, lon_1, lat_2, lon_2)"
   ]
  },
  {
   "cell_type": "markdown",
   "metadata": {},
   "source": [
    "Now, the user can (safely) send her encrypted data to the server, which can run the compiled FHE network, with only public keys"
   ]
  },
  {
   "cell_type": "code",
   "execution_count": 8,
   "metadata": {},
   "outputs": [],
   "source": [
    "encrypted_result = homomorphic_distance_on_earth.run(keys.public_keys, \n",
    "                                                     encrypted_lat_1, encrypted_lon_1, \n",
    "                                                     encrypted_lat_2, encrypted_lon_2)"
   ]
  },
  {
   "cell_type": "markdown",
   "metadata": {},
   "source": [
    "Finally, the encrypted result is returned to the user, who can use her private key to decrypt the content. Her private data has never left her device, her privacy was ensured end-to-end"
   ]
  },
  {
   "cell_type": "code",
   "execution_count": 9,
   "metadata": {},
   "outputs": [],
   "source": [
    "h_distances = keys.decrypt(encrypted_result)"
   ]
  },
  {
   "cell_type": "markdown",
   "metadata": {},
   "source": [
    "Remark that, here, we've used three API (`encrypt`, `run` and `decrypt`) to be clear on how FHE protects your data. For simplicity of tests, we propose a combined `encrypt_and_run` all-in-one call, who's examplified later in this notebook."
   ]
  },
  {
   "cell_type": "markdown",
   "metadata": {},
   "source": [
    "Now let's check on a table the results originally computed and the results computed homomorphically"
   ]
  },
  {
   "cell_type": "code",
   "execution_count": 10,
   "metadata": {},
   "outputs": [
    {
     "data": {
      "text/html": [
       "<div>\n",
       "<style scoped>\n",
       "    .dataframe tbody tr th:only-of-type {\n",
       "        vertical-align: middle;\n",
       "    }\n",
       "\n",
       "    .dataframe tbody tr th {\n",
       "        vertical-align: top;\n",
       "    }\n",
       "\n",
       "    .dataframe thead th {\n",
       "        text-align: right;\n",
       "    }\n",
       "</style>\n",
       "<table border=\"1\" class=\"dataframe\">\n",
       "  <thead>\n",
       "    <tr style=\"text-align: right;\">\n",
       "      <th></th>\n",
       "      <th>Latitude 1</th>\n",
       "      <th>Longitude 1</th>\n",
       "      <th>Latitude 2</th>\n",
       "      <th>Longitude 2</th>\n",
       "      <th>Distances</th>\n",
       "      <th>Homomorphic Distances</th>\n",
       "      <th>Homomorphic Error</th>\n",
       "    </tr>\n",
       "  </thead>\n",
       "  <tbody>\n",
       "    <tr>\n",
       "      <th>0</th>\n",
       "      <td>5.467948</td>\n",
       "      <td>28.957397</td>\n",
       "      <td>7.502680</td>\n",
       "      <td>81.419287</td>\n",
       "      <td>5793.805880</td>\n",
       "      <td>5084.281574</td>\n",
       "      <td>709.524306</td>\n",
       "    </tr>\n",
       "    <tr>\n",
       "      <th>1</th>\n",
       "      <td>-66.547672</td>\n",
       "      <td>-61.069593</td>\n",
       "      <td>35.163148</td>\n",
       "      <td>57.950175</td>\n",
       "      <td>14816.032968</td>\n",
       "      <td>14651.614854</td>\n",
       "      <td>164.418114</td>\n",
       "    </tr>\n",
       "    <tr>\n",
       "      <th>2</th>\n",
       "      <td>-18.919019</td>\n",
       "      <td>-61.632026</td>\n",
       "      <td>81.164148</td>\n",
       "      <td>31.235876</td>\n",
       "      <td>12126.687082</td>\n",
       "      <td>11935.524398</td>\n",
       "      <td>191.162684</td>\n",
       "    </tr>\n",
       "    <tr>\n",
       "      <th>3</th>\n",
       "      <td>77.695176</td>\n",
       "      <td>81.468183</td>\n",
       "      <td>70.906996</td>\n",
       "      <td>-68.957644</td>\n",
       "      <td>3376.456174</td>\n",
       "      <td>3031.869645</td>\n",
       "      <td>344.586528</td>\n",
       "    </tr>\n",
       "    <tr>\n",
       "      <th>4</th>\n",
       "      <td>-75.838341</td>\n",
       "      <td>32.063738</td>\n",
       "      <td>59.176121</td>\n",
       "      <td>-9.078576</td>\n",
       "      <td>15288.784759</td>\n",
       "      <td>15277.397519</td>\n",
       "      <td>11.387240</td>\n",
       "    </tr>\n",
       "    <tr>\n",
       "      <th>5</th>\n",
       "      <td>0.591386</td>\n",
       "      <td>11.358354</td>\n",
       "      <td>7.965125</td>\n",
       "      <td>53.147188</td>\n",
       "      <td>4698.959807</td>\n",
       "      <td>6015.161468</td>\n",
       "      <td>1316.201660</td>\n",
       "    </tr>\n",
       "    <tr>\n",
       "      <th>6</th>\n",
       "      <td>-79.640008</td>\n",
       "      <td>69.371437</td>\n",
       "      <td>85.811590</td>\n",
       "      <td>-16.346713</td>\n",
       "      <td>18729.853559</td>\n",
       "      <td>19262.041678</td>\n",
       "      <td>532.188119</td>\n",
       "    </tr>\n",
       "    <tr>\n",
       "      <th>7</th>\n",
       "      <td>45.486504</td>\n",
       "      <td>-5.016687</td>\n",
       "      <td>-80.023290</td>\n",
       "      <td>44.236970</td>\n",
       "      <td>14283.720730</td>\n",
       "      <td>14076.828115</td>\n",
       "      <td>206.892614</td>\n",
       "    </tr>\n",
       "    <tr>\n",
       "      <th>8</th>\n",
       "      <td>46.724487</td>\n",
       "      <td>41.321014</td>\n",
       "      <td>64.029936</td>\n",
       "      <td>-89.920210</td>\n",
       "      <td>6981.813480</td>\n",
       "      <td>39180.230395</td>\n",
       "      <td>32198.416915</td>\n",
       "    </tr>\n",
       "    <tr>\n",
       "      <th>9</th>\n",
       "      <td>41.650504</td>\n",
       "      <td>-45.885237</td>\n",
       "      <td>-47.758942</td>\n",
       "      <td>11.423096</td>\n",
       "      <td>11418.112631</td>\n",
       "      <td>11626.908629</td>\n",
       "      <td>208.795998</td>\n",
       "    </tr>\n",
       "  </tbody>\n",
       "</table>\n",
       "</div>"
      ],
      "text/plain": [
       "   Latitude 1  Longitude 1  Latitude 2  Longitude 2     Distances  \\\n",
       "0    5.467948    28.957397    7.502680    81.419287   5793.805880   \n",
       "1  -66.547672   -61.069593   35.163148    57.950175  14816.032968   \n",
       "2  -18.919019   -61.632026   81.164148    31.235876  12126.687082   \n",
       "3   77.695176    81.468183   70.906996   -68.957644   3376.456174   \n",
       "4  -75.838341    32.063738   59.176121    -9.078576  15288.784759   \n",
       "5    0.591386    11.358354    7.965125    53.147188   4698.959807   \n",
       "6  -79.640008    69.371437   85.811590   -16.346713  18729.853559   \n",
       "7   45.486504    -5.016687  -80.023290    44.236970  14283.720730   \n",
       "8   46.724487    41.321014   64.029936   -89.920210   6981.813480   \n",
       "9   41.650504   -45.885237  -47.758942    11.423096  11418.112631   \n",
       "\n",
       "   Homomorphic Distances  Homomorphic Error  \n",
       "0            5084.281574         709.524306  \n",
       "1           14651.614854         164.418114  \n",
       "2           11935.524398         191.162684  \n",
       "3            3031.869645         344.586528  \n",
       "4           15277.397519          11.387240  \n",
       "5            6015.161468        1316.201660  \n",
       "6           19262.041678         532.188119  \n",
       "7           14076.828115         206.892614  \n",
       "8           39180.230395       32198.416915  \n",
       "9           11626.908629         208.795998  "
      ]
     },
     "execution_count": 10,
     "metadata": {},
     "output_type": "execute_result"
    }
   ],
   "source": [
    "error = np.abs(h_distances - distances)\n",
    "pd.DataFrame(data=np.vstack((lat_1, lon_1, lat_2, lon_2, distances, h_distances, error)).T, \n",
    "             columns=[\"Latitude 1\", \"Longitude 1\", \"Latitude 2\", \"Longitude 2\", \"Distances\", \n",
    "                      \"Homomorphic Distances\", \"Homomorphic Error\"])"
   ]
  },
  {
   "cell_type": "markdown",
   "metadata": {},
   "source": [
    "We can notice that the error when computing the function homomorphically can get quite large, and the computation itself is much slower. The main challenges with running homomorphic programs is that the computations are much more expensive than the equivalent ones on non-encrypted data, and, additionally, they have very limited precision. As a result, we see both a slowdown and a loss of precision.\n",
    "\n",
    "The homomorphic numpy comes with some tools to allow us to inspect our homomorphic function more closely, in case we want to explore how to improve its performance and precision. By calling `expected_precision()`, we can check what is the theoretical precision we should have, and compare to what is achieve in practice."
   ]
  },
  {
   "cell_type": "code",
   "execution_count": 11,
   "metadata": {},
   "outputs": [
    {
     "name": "stdout",
     "output_type": "stream",
     "text": [
      "Expected precision: ±[1224.3826017680458]\n",
      "Mean and standard deviation of the error: 3588.3574178635013, 9543.389567393006\n"
     ]
    }
   ],
   "source": [
    "print(f\"Expected precision: ±{homomorphic_distance_on_earth.expected_precision()}\")\n",
    "print(f\"Mean and standard deviation of the error: {np.mean(error)}, {np.std(error)}\")"
   ]
  },
  {
   "cell_type": "markdown",
   "metadata": {},
   "source": [
    "We can also check the computational graphs of our cleartext function:"
   ]
  },
  {
   "cell_type": "code",
   "execution_count": 12,
   "metadata": {},
   "outputs": [
    {
     "data": {
      "image/png": "[encoded data removed]",
      "text/plain": [
       "<Figure size 432x288 with 1 Axes>"
      ]
     },
     "metadata": {},
     "output_type": "display_data"
    }
   ],
   "source": [
    "homomorphic_distance_on_earth.draw_intermediate_graph()"
   ]
  },
  {
   "cell_type": "markdown",
   "metadata": {},
   "source": [
    "...and of the homomorphic equivalent:"
   ]
  },
  {
   "cell_type": "code",
   "execution_count": 13,
   "metadata": {
    "scrolled": true
   },
   "outputs": [
    {
     "data": {
      "image/png": "[encoded data removed]",
      "text/plain": [
       "<Figure size 432x288 with 1 Axes>"
      ]
     },
     "metadata": {},
     "output_type": "display_data"
    }
   ],
   "source": [
    "homomorphic_distance_on_earth.draw_intermediate_graph()"
   ]
  },
  {
   "cell_type": "markdown",
   "metadata": {},
   "source": [
    "### Getting better precision\n",
    "\n",
    "One strategy to get better precision is to restrict our bounds. For instance, if we just want to calculate distances within Europe, we could restrict our bounds to its maximum and minimum latitude and longitude. "
   ]
  },
  {
   "cell_type": "code",
   "execution_count": 14,
   "metadata": {},
   "outputs": [],
   "source": [
    "min_lat, max_lat = 36, 71\n",
    "min_lon, max_lon = -28, 69\n",
    "nb_cities = 20"
   ]
  },
  {
   "cell_type": "code",
   "execution_count": 15,
   "metadata": {},
   "outputs": [
    {
     "name": "stderr",
     "output_type": "stream",
     "text": [
      "2021-06-01 17:24:32.713 | INFO     | hnumpy.convert:compile_fhe:360 - Compiling distance_on_earth into an FHE function\n",
      "2021-06-01 17:24:32.714 | INFO     | hnumpy.convert:compile_fhe:362 - Checking input and output\n",
      "2021-06-01 17:24:32.715 | INFO     | hnumpy.convert:compile_homomorphic:253 - Create target graph\n",
      "2021-06-01 17:24:32.718 | INFO     | hnumpy.convert:compile_homomorphic:258 - Optimize target graph with optimizer `handselected`\n",
      "/Users/benoitchevalliermames/Documents/Zama/Git/hnp/hnp/hnumpy/representation/intermediate_to_target.py:43: RuntimeWarning: invalid value encountered in sqrt\n",
      "  pbs_with_lambda(graph, node, lambda x: x ** node.computation.power)\n",
      "2021-06-01 17:24:32.797 | INFO     | hnumpy.convert:compile_homomorphic:271 - Correct encoding\n",
      "2021-06-01 17:24:32.797 | INFO     | hnumpy.convert:compile_homomorphic:274 - Create VM graph\n",
      "2021-06-01 17:24:32.800 | INFO     | hnumpy.convert:compile_homomorphic:290 - Return the result to the caller\n"
     ]
    }
   ],
   "source": [
    "homomorphic_distance_on_earth = hnp.compile_fhe(\n",
    "    distance_on_earth,\n",
    "    {\n",
    "    \"lat1\": hnp.encrypted_ndarray(bounds=(min_lat, max_lat), shape=(nb_cities,)),\n",
    "    \"lon1\": hnp.encrypted_ndarray(bounds=(min_lon, max_lon), shape=(nb_cities,)),\n",
    "    \"lat2\": hnp.encrypted_ndarray(bounds=(min_lat, max_lat), shape=(nb_cities,)),\n",
    "    \"lon2\": hnp.encrypted_ndarray(bounds=(min_lon, max_lon), shape=(nb_cities,)),\n",
    "    }       \n",
    ")"
   ]
  },
  {
   "cell_type": "code",
   "execution_count": 16,
   "metadata": {},
   "outputs": [
    {
     "name": "stderr",
     "output_type": "stream",
     "text": [
      "2021-06-01 17:24:32.805 | INFO     | hnumpy.client:keygen:28 - Creating 1 keyswitching key(s) and 1 bootstrapping key(s). This should take approximately 40 seconds (0.6666666666666666 minutes)\n",
      "2021-06-01 17:25:08.015 | DEBUG    | hnumpy.client:keygen:42 - Key creation time took 35.208749022000006 seconds\n"
     ]
    }
   ],
   "source": [
    "context = homomorphic_distance_on_earth.create_context()\n",
    "keys = context.keygen()"
   ]
  },
  {
   "cell_type": "markdown",
   "metadata": {},
   "source": [
    "Now, let's pick some pairs of cities in Europe to measure their distance homomorphically"
   ]
  },
  {
   "cell_type": "code",
   "execution_count": 17,
   "metadata": {
    "scrolled": false
   },
   "outputs": [
    {
     "data": {
      "text/html": [
       "<div>\n",
       "<style scoped>\n",
       "    .dataframe tbody tr th:only-of-type {\n",
       "        vertical-align: middle;\n",
       "    }\n",
       "\n",
       "    .dataframe tbody tr th {\n",
       "        vertical-align: top;\n",
       "    }\n",
       "\n",
       "    .dataframe thead th {\n",
       "        text-align: right;\n",
       "    }\n",
       "</style>\n",
       "<table border=\"1\" class=\"dataframe\">\n",
       "  <thead>\n",
       "    <tr style=\"text-align: right;\">\n",
       "      <th></th>\n",
       "      <th>Latitude 1</th>\n",
       "      <th>Longitude 1</th>\n",
       "      <th>Latitude 2</th>\n",
       "      <th>Longitude 2</th>\n",
       "      <th>Distances</th>\n",
       "    </tr>\n",
       "  </thead>\n",
       "  <tbody>\n",
       "    <tr>\n",
       "      <th>0</th>\n",
       "      <td>38.105836</td>\n",
       "      <td>31.589122</td>\n",
       "      <td>43.998454</td>\n",
       "      <td>59.020824</td>\n",
       "      <td>2377.821110</td>\n",
       "    </tr>\n",
       "    <tr>\n",
       "      <th>1</th>\n",
       "      <td>42.322643</td>\n",
       "      <td>-11.044070</td>\n",
       "      <td>50.276479</td>\n",
       "      <td>-23.291748</td>\n",
       "      <td>1287.466336</td>\n",
       "    </tr>\n",
       "    <tr>\n",
       "      <th>2</th>\n",
       "      <td>70.177329</td>\n",
       "      <td>17.493909</td>\n",
       "      <td>37.082223</td>\n",
       "      <td>53.235311</td>\n",
       "      <td>4235.117996</td>\n",
       "    </tr>\n",
       "    <tr>\n",
       "      <th>3</th>\n",
       "      <td>38.523729</td>\n",
       "      <td>-20.294115</td>\n",
       "      <td>43.165548</td>\n",
       "      <td>44.262430</td>\n",
       "      <td>5315.877122</td>\n",
       "    </tr>\n",
       "    <tr>\n",
       "      <th>4</th>\n",
       "      <td>51.556997</td>\n",
       "      <td>61.868534</td>\n",
       "      <td>45.765148</td>\n",
       "      <td>-22.749656</td>\n",
       "      <td>5889.340839</td>\n",
       "    </tr>\n",
       "    <tr>\n",
       "      <th>5</th>\n",
       "      <td>43.781937</td>\n",
       "      <td>42.086218</td>\n",
       "      <td>50.471631</td>\n",
       "      <td>32.760594</td>\n",
       "      <td>1023.061133</td>\n",
       "    </tr>\n",
       "    <tr>\n",
       "      <th>6</th>\n",
       "      <td>54.748447</td>\n",
       "      <td>47.897702</td>\n",
       "      <td>41.240125</td>\n",
       "      <td>31.413077</td>\n",
       "      <td>1928.110754</td>\n",
       "    </tr>\n",
       "    <tr>\n",
       "      <th>7</th>\n",
       "      <td>61.764944</td>\n",
       "      <td>-8.832794</td>\n",
       "      <td>40.415088</td>\n",
       "      <td>55.991343</td>\n",
       "      <td>4842.894063</td>\n",
       "    </tr>\n",
       "    <tr>\n",
       "      <th>8</th>\n",
       "      <td>68.442167</td>\n",
       "      <td>25.942916</td>\n",
       "      <td>54.241464</td>\n",
       "      <td>-8.991921</td>\n",
       "      <td>2383.401219</td>\n",
       "    </tr>\n",
       "    <tr>\n",
       "      <th>9</th>\n",
       "      <td>36.147091</td>\n",
       "      <td>24.291959</td>\n",
       "      <td>55.007899</td>\n",
       "      <td>52.721325</td>\n",
       "      <td>3008.005080</td>\n",
       "    </tr>\n",
       "    <tr>\n",
       "      <th>10</th>\n",
       "      <td>64.661915</td>\n",
       "      <td>63.847505</td>\n",
       "      <td>70.349672</td>\n",
       "      <td>22.053558</td>\n",
       "      <td>1841.668299</td>\n",
       "    </tr>\n",
       "    <tr>\n",
       "      <th>11</th>\n",
       "      <td>38.207323</td>\n",
       "      <td>29.872936</td>\n",
       "      <td>38.630930</td>\n",
       "      <td>16.660898</td>\n",
       "      <td>1150.274702</td>\n",
       "    </tr>\n",
       "    <tr>\n",
       "      <th>12</th>\n",
       "      <td>63.949624</td>\n",
       "      <td>26.008234</td>\n",
       "      <td>56.549556</td>\n",
       "      <td>55.584076</td>\n",
       "      <td>1803.965031</td>\n",
       "    </tr>\n",
       "    <tr>\n",
       "      <th>13</th>\n",
       "      <td>63.004904</td>\n",
       "      <td>62.896887</td>\n",
       "      <td>66.274991</td>\n",
       "      <td>18.209367</td>\n",
       "      <td>2110.123408</td>\n",
       "    </tr>\n",
       "    <tr>\n",
       "      <th>14</th>\n",
       "      <td>48.912335</td>\n",
       "      <td>63.435735</td>\n",
       "      <td>36.037831</td>\n",
       "      <td>36.206498</td>\n",
       "      <td>2628.827796</td>\n",
       "    </tr>\n",
       "    <tr>\n",
       "      <th>15</th>\n",
       "      <td>44.901322</td>\n",
       "      <td>51.752039</td>\n",
       "      <td>64.208353</td>\n",
       "      <td>14.881687</td>\n",
       "      <td>3122.700042</td>\n",
       "    </tr>\n",
       "    <tr>\n",
       "      <th>16</th>\n",
       "      <td>61.029338</td>\n",
       "      <td>-3.943702</td>\n",
       "      <td>68.275253</td>\n",
       "      <td>61.366741</td>\n",
       "      <td>3047.582179</td>\n",
       "    </tr>\n",
       "    <tr>\n",
       "      <th>17</th>\n",
       "      <td>63.139618</td>\n",
       "      <td>62.247124</td>\n",
       "      <td>60.510487</td>\n",
       "      <td>25.845476</td>\n",
       "      <td>1905.510458</td>\n",
       "    </tr>\n",
       "    <tr>\n",
       "      <th>18</th>\n",
       "      <td>45.543473</td>\n",
       "      <td>-1.192080</td>\n",
       "      <td>63.564770</td>\n",
       "      <td>47.740670</td>\n",
       "      <td>3604.598203</td>\n",
       "    </tr>\n",
       "    <tr>\n",
       "      <th>19</th>\n",
       "      <td>48.423712</td>\n",
       "      <td>67.921760</td>\n",
       "      <td>37.547018</td>\n",
       "      <td>18.854285</td>\n",
       "      <td>4090.770039</td>\n",
       "    </tr>\n",
       "  </tbody>\n",
       "</table>\n",
       "</div>"
      ],
      "text/plain": [
       "    Latitude 1  Longitude 1  Latitude 2  Longitude 2    Distances\n",
       "0    38.105836    31.589122   43.998454    59.020824  2377.821110\n",
       "1    42.322643   -11.044070   50.276479   -23.291748  1287.466336\n",
       "2    70.177329    17.493909   37.082223    53.235311  4235.117996\n",
       "3    38.523729   -20.294115   43.165548    44.262430  5315.877122\n",
       "4    51.556997    61.868534   45.765148   -22.749656  5889.340839\n",
       "5    43.781937    42.086218   50.471631    32.760594  1023.061133\n",
       "6    54.748447    47.897702   41.240125    31.413077  1928.110754\n",
       "7    61.764944    -8.832794   40.415088    55.991343  4842.894063\n",
       "8    68.442167    25.942916   54.241464    -8.991921  2383.401219\n",
       "9    36.147091    24.291959   55.007899    52.721325  3008.005080\n",
       "10   64.661915    63.847505   70.349672    22.053558  1841.668299\n",
       "11   38.207323    29.872936   38.630930    16.660898  1150.274702\n",
       "12   63.949624    26.008234   56.549556    55.584076  1803.965031\n",
       "13   63.004904    62.896887   66.274991    18.209367  2110.123408\n",
       "14   48.912335    63.435735   36.037831    36.206498  2628.827796\n",
       "15   44.901322    51.752039   64.208353    14.881687  3122.700042\n",
       "16   61.029338    -3.943702   68.275253    61.366741  3047.582179\n",
       "17   63.139618    62.247124   60.510487    25.845476  1905.510458\n",
       "18   45.543473    -1.192080   63.564770    47.740670  3604.598203\n",
       "19   48.423712    67.921760   37.547018    18.854285  4090.770039"
      ]
     },
     "execution_count": 17,
     "metadata": {},
     "output_type": "execute_result"
    }
   ],
   "source": [
    "lat_1, lat_2 = np.random.uniform(min_lat, max_lat, size=(2, nb_cities))\n",
    "lon_1, lon_2 = np.random.uniform(min_lon, max_lon, size=(2, nb_cities))\n",
    "distances = distance_on_earth(lat_1, lon_1, lat_2, lon_2)\n",
    "pd.DataFrame(data=np.vstack((lat_1, lon_1, lat_2, lon_2, distances,)).T, \n",
    "             columns=[\"Latitude 1\", \"Longitude 1\", \"Latitude 2\", \"Longitude 2\", \"Distances\"])\n"
   ]
  },
  {
   "cell_type": "markdown",
   "metadata": {},
   "source": [
    "For comparison, we'll compute in the clear and homomorphically. Remark that now, we use combined API `encrypt_and_run`, for the sake of simplify."
   ]
  },
  {
   "cell_type": "code",
   "execution_count": 18,
   "metadata": {},
   "outputs": [],
   "source": [
    "distances = distance_on_earth(lat_1, lon_1, lat_2, lon_2)\n",
    "h_distances = homomorphic_distance_on_earth.encrypt_and_run(keys, lat_1, lon_1, lat_2, lon_2)"
   ]
  },
  {
   "cell_type": "markdown",
   "metadata": {},
   "source": [
    "And, finally, we visualize the results"
   ]
  },
  {
   "cell_type": "code",
   "execution_count": 19,
   "metadata": {},
   "outputs": [
    {
     "data": {
      "text/html": [
       "<div>\n",
       "<style scoped>\n",
       "    .dataframe tbody tr th:only-of-type {\n",
       "        vertical-align: middle;\n",
       "    }\n",
       "\n",
       "    .dataframe tbody tr th {\n",
       "        vertical-align: top;\n",
       "    }\n",
       "\n",
       "    .dataframe thead th {\n",
       "        text-align: right;\n",
       "    }\n",
       "</style>\n",
       "<table border=\"1\" class=\"dataframe\">\n",
       "  <thead>\n",
       "    <tr style=\"text-align: right;\">\n",
       "      <th></th>\n",
       "      <th>Latitude 1</th>\n",
       "      <th>Longitude 1</th>\n",
       "      <th>Latitude 2</th>\n",
       "      <th>Longitude 2</th>\n",
       "      <th>Distances</th>\n",
       "      <th>Homomorphic Distances</th>\n",
       "      <th>Homomorphic Error</th>\n",
       "    </tr>\n",
       "  </thead>\n",
       "  <tbody>\n",
       "    <tr>\n",
       "      <th>0</th>\n",
       "      <td>38.105836</td>\n",
       "      <td>31.589122</td>\n",
       "      <td>43.998454</td>\n",
       "      <td>59.020824</td>\n",
       "      <td>2377.821110</td>\n",
       "      <td>2230.981728</td>\n",
       "      <td>146.839382</td>\n",
       "    </tr>\n",
       "    <tr>\n",
       "      <th>1</th>\n",
       "      <td>42.322643</td>\n",
       "      <td>-11.044070</td>\n",
       "      <td>50.276479</td>\n",
       "      <td>-23.291748</td>\n",
       "      <td>1287.466336</td>\n",
       "      <td>678.197700</td>\n",
       "      <td>609.268636</td>\n",
       "    </tr>\n",
       "    <tr>\n",
       "      <th>2</th>\n",
       "      <td>70.177329</td>\n",
       "      <td>17.493909</td>\n",
       "      <td>37.082223</td>\n",
       "      <td>53.235311</td>\n",
       "      <td>4235.117996</td>\n",
       "      <td>4104.670657</td>\n",
       "      <td>130.447339</td>\n",
       "    </tr>\n",
       "    <tr>\n",
       "      <th>3</th>\n",
       "      <td>38.523729</td>\n",
       "      <td>-20.294115</td>\n",
       "      <td>43.165548</td>\n",
       "      <td>44.262430</td>\n",
       "      <td>5315.877122</td>\n",
       "      <td>5266.436789</td>\n",
       "      <td>49.440334</td>\n",
       "    </tr>\n",
       "    <tr>\n",
       "      <th>4</th>\n",
       "      <td>51.556997</td>\n",
       "      <td>61.868534</td>\n",
       "      <td>45.765148</td>\n",
       "      <td>-22.749656</td>\n",
       "      <td>5889.340839</td>\n",
       "      <td>6104.692112</td>\n",
       "      <td>215.351273</td>\n",
       "    </tr>\n",
       "    <tr>\n",
       "      <th>5</th>\n",
       "      <td>43.781937</td>\n",
       "      <td>42.086218</td>\n",
       "      <td>50.471631</td>\n",
       "      <td>32.760594</td>\n",
       "      <td>1023.061133</td>\n",
       "      <td>1409.397807</td>\n",
       "      <td>386.336674</td>\n",
       "    </tr>\n",
       "    <tr>\n",
       "      <th>6</th>\n",
       "      <td>54.748447</td>\n",
       "      <td>47.897702</td>\n",
       "      <td>41.240125</td>\n",
       "      <td>31.413077</td>\n",
       "      <td>1928.110754</td>\n",
       "      <td>1947.984527</td>\n",
       "      <td>19.873773</td>\n",
       "    </tr>\n",
       "    <tr>\n",
       "      <th>7</th>\n",
       "      <td>61.764944</td>\n",
       "      <td>-8.832794</td>\n",
       "      <td>40.415088</td>\n",
       "      <td>55.991343</td>\n",
       "      <td>4842.894063</td>\n",
       "      <td>4812.692225</td>\n",
       "      <td>30.201837</td>\n",
       "    </tr>\n",
       "    <tr>\n",
       "      <th>8</th>\n",
       "      <td>68.442167</td>\n",
       "      <td>25.942916</td>\n",
       "      <td>54.241464</td>\n",
       "      <td>-8.991921</td>\n",
       "      <td>2383.401219</td>\n",
       "      <td>2519.743111</td>\n",
       "      <td>136.341891</td>\n",
       "    </tr>\n",
       "    <tr>\n",
       "      <th>9</th>\n",
       "      <td>36.147091</td>\n",
       "      <td>24.291959</td>\n",
       "      <td>55.007899</td>\n",
       "      <td>52.721325</td>\n",
       "      <td>3008.005080</td>\n",
       "      <td>3154.828669</td>\n",
       "      <td>146.823588</td>\n",
       "    </tr>\n",
       "    <tr>\n",
       "      <th>10</th>\n",
       "      <td>64.661915</td>\n",
       "      <td>63.847505</td>\n",
       "      <td>70.349672</td>\n",
       "      <td>22.053558</td>\n",
       "      <td>1841.668299</td>\n",
       "      <td>1900.843926</td>\n",
       "      <td>59.175627</td>\n",
       "    </tr>\n",
       "    <tr>\n",
       "      <th>11</th>\n",
       "      <td>38.207323</td>\n",
       "      <td>29.872936</td>\n",
       "      <td>38.630930</td>\n",
       "      <td>16.660898</td>\n",
       "      <td>1150.274702</td>\n",
       "      <td>1502.257804</td>\n",
       "      <td>351.983102</td>\n",
       "    </tr>\n",
       "    <tr>\n",
       "      <th>12</th>\n",
       "      <td>63.949624</td>\n",
       "      <td>26.008234</td>\n",
       "      <td>56.549556</td>\n",
       "      <td>55.584076</td>\n",
       "      <td>1803.965031</td>\n",
       "      <td>1672.849374</td>\n",
       "      <td>131.115657</td>\n",
       "    </tr>\n",
       "    <tr>\n",
       "      <th>13</th>\n",
       "      <td>63.004904</td>\n",
       "      <td>62.896887</td>\n",
       "      <td>66.274991</td>\n",
       "      <td>18.209367</td>\n",
       "      <td>2110.123408</td>\n",
       "      <td>2126.436581</td>\n",
       "      <td>16.313173</td>\n",
       "    </tr>\n",
       "    <tr>\n",
       "      <th>14</th>\n",
       "      <td>48.912335</td>\n",
       "      <td>63.435735</td>\n",
       "      <td>36.037831</td>\n",
       "      <td>36.206498</td>\n",
       "      <td>2628.827796</td>\n",
       "      <td>0.003071</td>\n",
       "      <td>2628.824725</td>\n",
       "    </tr>\n",
       "    <tr>\n",
       "      <th>15</th>\n",
       "      <td>44.901322</td>\n",
       "      <td>51.752039</td>\n",
       "      <td>64.208353</td>\n",
       "      <td>14.881687</td>\n",
       "      <td>3122.700042</td>\n",
       "      <td>3080.241255</td>\n",
       "      <td>42.458787</td>\n",
       "    </tr>\n",
       "    <tr>\n",
       "      <th>16</th>\n",
       "      <td>61.029338</td>\n",
       "      <td>-3.943702</td>\n",
       "      <td>68.275253</td>\n",
       "      <td>61.366741</td>\n",
       "      <td>3047.582179</td>\n",
       "      <td>3003.940678</td>\n",
       "      <td>43.641501</td>\n",
       "    </tr>\n",
       "    <tr>\n",
       "      <th>17</th>\n",
       "      <td>63.139618</td>\n",
       "      <td>62.247124</td>\n",
       "      <td>60.510487</td>\n",
       "      <td>25.845476</td>\n",
       "      <td>1905.510458</td>\n",
       "      <td>1947.986774</td>\n",
       "      <td>42.476315</td>\n",
       "    </tr>\n",
       "    <tr>\n",
       "      <th>18</th>\n",
       "      <td>45.543473</td>\n",
       "      <td>-1.192080</td>\n",
       "      <td>63.564770</td>\n",
       "      <td>47.740670</td>\n",
       "      <td>3604.598203</td>\n",
       "      <td>3369.510410</td>\n",
       "      <td>235.087793</td>\n",
       "    </tr>\n",
       "    <tr>\n",
       "      <th>19</th>\n",
       "      <td>48.423712</td>\n",
       "      <td>67.921760</td>\n",
       "      <td>37.547018</td>\n",
       "      <td>18.854285</td>\n",
       "      <td>4090.770039</td>\n",
       "      <td>3852.805390</td>\n",
       "      <td>237.964648</td>\n",
       "    </tr>\n",
       "  </tbody>\n",
       "</table>\n",
       "</div>"
      ],
      "text/plain": [
       "    Latitude 1  Longitude 1  Latitude 2  Longitude 2    Distances  \\\n",
       "0    38.105836    31.589122   43.998454    59.020824  2377.821110   \n",
       "1    42.322643   -11.044070   50.276479   -23.291748  1287.466336   \n",
       "2    70.177329    17.493909   37.082223    53.235311  4235.117996   \n",
       "3    38.523729   -20.294115   43.165548    44.262430  5315.877122   \n",
       "4    51.556997    61.868534   45.765148   -22.749656  5889.340839   \n",
       "5    43.781937    42.086218   50.471631    32.760594  1023.061133   \n",
       "6    54.748447    47.897702   41.240125    31.413077  1928.110754   \n",
       "7    61.764944    -8.832794   40.415088    55.991343  4842.894063   \n",
       "8    68.442167    25.942916   54.241464    -8.991921  2383.401219   \n",
       "9    36.147091    24.291959   55.007899    52.721325  3008.005080   \n",
       "10   64.661915    63.847505   70.349672    22.053558  1841.668299   \n",
       "11   38.207323    29.872936   38.630930    16.660898  1150.274702   \n",
       "12   63.949624    26.008234   56.549556    55.584076  1803.965031   \n",
       "13   63.004904    62.896887   66.274991    18.209367  2110.123408   \n",
       "14   48.912335    63.435735   36.037831    36.206498  2628.827796   \n",
       "15   44.901322    51.752039   64.208353    14.881687  3122.700042   \n",
       "16   61.029338    -3.943702   68.275253    61.366741  3047.582179   \n",
       "17   63.139618    62.247124   60.510487    25.845476  1905.510458   \n",
       "18   45.543473    -1.192080   63.564770    47.740670  3604.598203   \n",
       "19   48.423712    67.921760   37.547018    18.854285  4090.770039   \n",
       "\n",
       "    Homomorphic Distances  Homomorphic Error  \n",
       "0             2230.981728         146.839382  \n",
       "1              678.197700         609.268636  \n",
       "2             4104.670657         130.447339  \n",
       "3             5266.436789          49.440334  \n",
       "4             6104.692112         215.351273  \n",
       "5             1409.397807         386.336674  \n",
       "6             1947.984527          19.873773  \n",
       "7             4812.692225          30.201837  \n",
       "8             2519.743111         136.341891  \n",
       "9             3154.828669         146.823588  \n",
       "10            1900.843926          59.175627  \n",
       "11            1502.257804         351.983102  \n",
       "12            1672.849374         131.115657  \n",
       "13            2126.436581          16.313173  \n",
       "14               0.003071        2628.824725  \n",
       "15            3080.241255          42.458787  \n",
       "16            3003.940678          43.641501  \n",
       "17            1947.986774          42.476315  \n",
       "18            3369.510410         235.087793  \n",
       "19            3852.805390         237.964648  "
      ]
     },
     "execution_count": 19,
     "metadata": {},
     "output_type": "execute_result"
    }
   ],
   "source": [
    "error = np.abs(h_distances - distances)\n",
    "pd.DataFrame(data=np.vstack((lat_1, lon_1, lat_2, lon_2, distances, h_distances, error)).T, \n",
    "             columns=[\"Latitude 1\", \"Longitude 1\", \"Latitude 2\", \"Longitude 2\", \"Distances\", \n",
    "                      \"Homomorphic Distances\", \"Homomorphic Error\"])"
   ]
  },
  {
   "cell_type": "markdown",
   "metadata": {},
   "source": [
    "We can check that if the results are within the expected error:"
   ]
  },
  {
   "cell_type": "code",
   "execution_count": 20,
   "metadata": {},
   "outputs": [
    {
     "name": "stdout",
     "output_type": "stream",
     "text": [
      "Expected precision: ±[591.1141917026329]\n",
      "Mean and standard deviation of the error: 282.99830277831876, 557.6975646796477\n"
     ]
    }
   ],
   "source": [
    "print(f\"Expected precision: ±{homomorphic_distance_on_earth.expected_precision()}\")\n",
    "print(f\"Mean and standard deviation of the error: {np.mean(error)}, {np.std(error)}\")"
   ]
  },
  {
   "cell_type": "code",
   "execution_count": null,
   "metadata": {},
   "outputs": [],
   "source": []
  }
 ],
 "metadata": {
  "kernelspec": {
   "display_name": "Python 3 (ipykernel)",
   "language": "python",
   "name": "python3"
  },
  "language_info": {
   "codemirror_mode": {
    "name": "ipython",
    "version": 3
   },
   "file_extension": ".py",
   "mimetype": "text/x-python",
   "name": "python",
   "nbconvert_exporter": "python",
   "pygments_lexer": "ipython3",
   "version": "3.8.10"
  }
 },
 "nbformat": 4,
 "nbformat_minor": 2
}
