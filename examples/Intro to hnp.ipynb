{
 "cells": [
  {
   "cell_type": "markdown",
   "metadata": {},
   "source": [
    "## Quick intro to the homomorphic numpy\n",
    "\n",
    "Numpy is the fundamental library for operating on arrays in Python. Its central data structure, a multidimensional array called an `ndarray` (for n-dimension array, also known as a tensor), allows programmers to express a variety of scientific computations.\n",
    "\n",
    "The homomorphic numpy allows us to create a [homomorphic](https://en.wikipedia.org/wiki/Homomorphic_encryption) version of functions operating on `ndarray`s - that is, to operate on encrypted data. Therefore we can receive encrypted data, apply computations on it, send the result back to the user who has the secret key, and the user will be able to get an approximation of applying our function to her data, without ever revealing the contents of her information to us. Therefore the homomorphic numpy ultimately gives us the ability to create programs for private computation, without any previous knowledge of the intricacies of homomorphic encryption.\n",
    "\n",
    "Let's start with a simple example: imagine that a user wants to know the distance between two points on Earth, but they don't know how to calculate it, nor do they want to reveal these two points; we, on the other hand, know how to compute it, and we want to calculate it for the user. We will start by computing it \"in the clear\" (that is, over non-encrypted data) and then we'll use the homomorphic numpy to seamlessly transform the function into a homomorphic equivalent."
   ]
  },
  {
   "cell_type": "code",
   "execution_count": 1,
   "metadata": {},
   "outputs": [],
   "source": [
    "import numpy as np\n",
    "import pandas as pd"
   ]
  },
  {
   "cell_type": "code",
   "execution_count": 2,
   "metadata": {},
   "outputs": [],
   "source": [
    "def distance_on_earth(lat1, lon1, lat2, lon2):\n",
    "    \"\"\" Given arrays of latitudes and longitudes for pairs of points, calculate their distances in km \"\"\"\n",
    "    lat1, lon1, lat2, lon2 = map(np.radians, [lat1, lon1, lat2, lon2])\n",
    "    dlon = lon2 - lon1\n",
    "    dlat = lat2 - lat1\n",
    "    a = np.sin(dlat/2)**2 + np.cos(lat1) * np.cos(lat2) * np.sin(dlon/2.0)**2\n",
    "    c = 2 * np.arcsin(np.sqrt(a))\n",
    "    km = 6367 * c\n",
    "    return km"
   ]
  },
  {
   "cell_type": "markdown",
   "metadata": {},
   "source": [
    "![Alt Text](https://media.giphy.com/media/VI2UC13hwWin1MIfmi/giphy.gif)"
   ]
  },
  {
   "cell_type": "markdown",
   "metadata": {},
   "source": [
    "First, let's check our function with some randomly generated values. We generate 4 columns (for latitude and longitude of each point) and 10 rows, for 10 pairs of points."
   ]
  },
  {
   "cell_type": "code",
   "execution_count": 3,
   "metadata": {},
   "outputs": [
    {
     "data": {
      "text/html": [
       "<div>\n",
       "<style scoped>\n",
       "    .dataframe tbody tr th:only-of-type {\n",
       "        vertical-align: middle;\n",
       "    }\n",
       "\n",
       "    .dataframe tbody tr th {\n",
       "        vertical-align: top;\n",
       "    }\n",
       "\n",
       "    .dataframe thead th {\n",
       "        text-align: right;\n",
       "    }\n",
       "</style>\n",
       "<table border=\"1\" class=\"dataframe\">\n",
       "  <thead>\n",
       "    <tr style=\"text-align: right;\">\n",
       "      <th></th>\n",
       "      <th>Latitude 1</th>\n",
       "      <th>Longitude 1</th>\n",
       "      <th>Latitude 2</th>\n",
       "      <th>Longitude 2</th>\n",
       "      <th>Distances</th>\n",
       "    </tr>\n",
       "  </thead>\n",
       "  <tbody>\n",
       "    <tr>\n",
       "      <th>0</th>\n",
       "      <td>25.206744</td>\n",
       "      <td>-14.515073</td>\n",
       "      <td>-31.627559</td>\n",
       "      <td>-58.359903</td>\n",
       "      <td>7844.560996</td>\n",
       "    </tr>\n",
       "    <tr>\n",
       "      <th>1</th>\n",
       "      <td>-27.964359</td>\n",
       "      <td>-75.514844</td>\n",
       "      <td>89.619949</td>\n",
       "      <td>35.468337</td>\n",
       "      <td>13123.861267</td>\n",
       "    </tr>\n",
       "    <tr>\n",
       "      <th>2</th>\n",
       "      <td>57.454310</td>\n",
       "      <td>14.787825</td>\n",
       "      <td>-32.811268</td>\n",
       "      <td>20.217806</td>\n",
       "      <td>10043.691176</td>\n",
       "    </tr>\n",
       "    <tr>\n",
       "      <th>3</th>\n",
       "      <td>27.867751</td>\n",
       "      <td>-41.528989</td>\n",
       "      <td>25.288407</td>\n",
       "      <td>-22.259396</td>\n",
       "      <td>1934.298962</td>\n",
       "    </tr>\n",
       "    <tr>\n",
       "      <th>4</th>\n",
       "      <td>67.605039</td>\n",
       "      <td>-50.422756</td>\n",
       "      <td>73.003938</td>\n",
       "      <td>-5.919939</td>\n",
       "      <td>1722.546300</td>\n",
       "    </tr>\n",
       "    <tr>\n",
       "      <th>5</th>\n",
       "      <td>-35.249784</td>\n",
       "      <td>-23.955815</td>\n",
       "      <td>81.039086</td>\n",
       "      <td>64.071501</td>\n",
       "      <td>13829.771418</td>\n",
       "    </tr>\n",
       "    <tr>\n",
       "      <th>6</th>\n",
       "      <td>-18.264875</td>\n",
       "      <td>9.814222</td>\n",
       "      <td>6.200872</td>\n",
       "      <td>86.075344</td>\n",
       "      <td>8781.800437</td>\n",
       "    </tr>\n",
       "    <tr>\n",
       "      <th>7</th>\n",
       "      <td>8.460700</td>\n",
       "      <td>-72.898505</td>\n",
       "      <td>-19.995293</td>\n",
       "      <td>-59.676511</td>\n",
       "      <td>3477.177586</td>\n",
       "    </tr>\n",
       "    <tr>\n",
       "      <th>8</th>\n",
       "      <td>-15.855408</td>\n",
       "      <td>-10.724262</td>\n",
       "      <td>-58.707055</td>\n",
       "      <td>30.901453</td>\n",
       "      <td>5848.554013</td>\n",
       "    </tr>\n",
       "    <tr>\n",
       "      <th>9</th>\n",
       "      <td>56.276932</td>\n",
       "      <td>5.243858</td>\n",
       "      <td>0.450098</td>\n",
       "      <td>9.536852</td>\n",
       "      <td>6215.742654</td>\n",
       "    </tr>\n",
       "  </tbody>\n",
       "</table>\n",
       "</div>"
      ],
      "text/plain": [
       "   Latitude 1  Longitude 1  Latitude 2  Longitude 2     Distances\n",
       "0   25.206744   -14.515073  -31.627559   -58.359903   7844.560996\n",
       "1  -27.964359   -75.514844   89.619949    35.468337  13123.861267\n",
       "2   57.454310    14.787825  -32.811268    20.217806  10043.691176\n",
       "3   27.867751   -41.528989   25.288407   -22.259396   1934.298962\n",
       "4   67.605039   -50.422756   73.003938    -5.919939   1722.546300\n",
       "5  -35.249784   -23.955815   81.039086    64.071501  13829.771418\n",
       "6  -18.264875     9.814222    6.200872    86.075344   8781.800437\n",
       "7    8.460700   -72.898505  -19.995293   -59.676511   3477.177586\n",
       "8  -15.855408   -10.724262  -58.707055    30.901453   5848.554013\n",
       "9   56.276932     5.243858    0.450098     9.536852   6215.742654"
      ]
     },
     "execution_count": 3,
     "metadata": {},
     "output_type": "execute_result"
    }
   ],
   "source": [
    "nb_cities = 10\n",
    "lat_1, lon_1, lat_2, lon_2 = np.random.uniform(-90, 90, size=(4, nb_cities))\n",
    "distances = distance_on_earth(lat_1, lon_1, lat_2, lon_2)\n",
    "pd.DataFrame(data=np.vstack((lat_1, lon_1, lat_2, lon_2, distances,)).T, \n",
    "             columns=[\"Latitude 1\", \"Longitude 1\", \"Latitude 2\", \"Longitude 2\", \"Distances\"])"
   ]
  },
  {
   "cell_type": "markdown",
   "metadata": {},
   "source": [
    "Looks good! We now know the 10 distances for those random pairs of points. However, if we were to compute the distances for a user, she would need to reveal the points to us. Let's solve that by making the function homomophic! Let's start by import `hnumpy`:"
   ]
  },
  {
   "cell_type": "code",
   "execution_count": 4,
   "metadata": {},
   "outputs": [],
   "source": [
    "import hnumpy as hnp"
   ]
  },
  {
   "cell_type": "markdown",
   "metadata": {},
   "source": [
    "Now, we will call `compile_fhe()`, the function that will translate `distance_on_earth()` into its homomorphic equivalent. In the call to `compile_fhe()`, we will pass to it the name of the function being converted, and the types of the inputs for that function - in our case, each input will be an encrypted array, with a range of values between `-90` and `90`, with a shape of `(10)`"
   ]
  },
  {
   "cell_type": "code",
   "execution_count": 5,
   "metadata": {},
   "outputs": [
    {
     "name": "stderr",
     "output_type": "stream",
     "text": [
      "2021-10-07 07:52:33.966 | INFO     | hnumpy.convert:compile_fhe:381 - Compiling distance_on_earth into an FHE function\n",
      "2021-10-07 07:52:33.972 | INFO     | hnumpy.convert:compile_fhe:383 - Checking input and output\n",
      "2021-10-07 07:52:33.979 | INFO     | hnumpy.convert:compile_homomorphic:265 - Create target graph\n",
      "2021-10-07 07:52:33.987 | INFO     | hnumpy.convert:compile_homomorphic:270 - Optimize target graph with optimizer `heuristic`\n",
      "2021-10-07 07:52:34.365 | INFO     | hnumpy.convert:compile_homomorphic:284 - Correct encoding\n",
      "2021-10-07 07:52:34.370 | INFO     | hnumpy.convert:compile_homomorphic:290 - Create VM graph\n",
      "2021-10-07 07:52:34.384 | INFO     | hnumpy.convert:compile_homomorphic:306 - Return the result to the caller\n"
     ]
    }
   ],
   "source": [
    "homomorphic_distance_on_earth = hnp.compile_fhe(\n",
    "    distance_on_earth,\n",
    "    {\n",
    "    \"lat1\": hnp.encrypted_ndarray(bounds=(-90.0, 90.0), shape=(nb_cities,)),\n",
    "    \"lon1\": hnp.encrypted_ndarray(bounds=(-90.0, 90.0), shape=(nb_cities,)),\n",
    "    \"lat2\": hnp.encrypted_ndarray(bounds=(-90.0, 90.0), shape=(nb_cities,)),\n",
    "    \"lon2\": hnp.encrypted_ndarray(bounds=(-90.0, 90.0), shape=(nb_cities,)),\n",
    "    }\n",
    ")"
   ]
  },
  {
   "cell_type": "markdown",
   "metadata": {},
   "source": [
    "The `compile_fhe` takes a function as input and outputs a homomorphic equivalent of it. "
   ]
  },
  {
   "cell_type": "markdown",
   "metadata": {},
   "source": [
    "Now, we need to generate keys (private and public) for our FHE model. Remark that, depending on the FHE model, it may be more or less long."
   ]
  },
  {
   "cell_type": "code",
   "execution_count": 6,
   "metadata": {},
   "outputs": [
    {
     "name": "stderr",
     "output_type": "stream",
     "text": [
      "2021-10-07 07:52:34.411 | INFO     | hnumpy.client:keygen:28 - Creating 1 keyswitching key(s) and 1 bootstrapping key(s). This should take approximately 40 seconds (0.6666666666666666 minutes)\n",
      "2021-10-07 08:11:42.803 | DEBUG    | hnumpy.client:keygen:42 - Key creation time took 1148.3381107710002 seconds\n"
     ]
    },
    {
     "name": "stdout",
     "output_type": "stream",
     "text": [
      "WARNING: You are currently using the software variant of concrete-csprng which does not have access to a hardware source of randomness. To ensure the security of your application, please arrange to provide a secret by using the `concrete_csprng::set_soft_rdseed_secret` function.\n",
      "WARNING: You are currently using the software variant of concrete-csprng which does not have access to a hardware source of randomness. To ensure the security of your application, please arrange to provide a secret by using the `concrete_csprng::set_soft_rdseed_secret` function.\n",
      "WARNING: You are currently using the software variant of concrete-csprng which does not have access to a hardware source of randomness. To ensure the security of your application, please arrange to provide a secret by using the `concrete_csprng::set_soft_rdseed_secret` function.\n",
      "WARNING: You are currently using the software variant of concrete-csprng which does not have access to a hardware source of randomness. To ensure the security of your application, please arrange to provide a secret by using the `concrete_csprng::set_soft_rdseed_secret` function.\n",
      "WARNING: You are currently using the software variant of concrete-csprng which does not have access to a hardware source of randomness. To ensure the security of your application, please arrange to provide a secret by using the `concrete_csprng::set_soft_rdseed_secret` function.\n",
      "WARNING: You are currently using the software variant of concrete-csprng which does not have access to a hardware source of randomness. To ensure the security of your application, please arrange to provide a secret by using the `concrete_csprng::set_soft_rdseed_secret` function.\n"
     ]
    }
   ],
   "source": [
    "context = homomorphic_distance_on_earth.create_context()\n",
    "keys = context.keygen()"
   ]
  },
  {
   "cell_type": "markdown",
   "metadata": {},
   "source": [
    "From now on, we can just call `encrypt_and_run`, allowing us to make the same computations on encrypted data, without ever having access to the underlying information. The output of the function will also be encrypted, and whoever has the corresponding secret key can decrypt it."
   ]
  },
  {
   "cell_type": "markdown",
   "metadata": {},
   "source": [
    "Now, let's start the FHE experience. On her device, with her private key, the user can encrypt data, with her private key"
   ]
  },
  {
   "cell_type": "code",
   "execution_count": 7,
   "metadata": {},
   "outputs": [
    {
     "name": "stdout",
     "output_type": "stream",
     "text": [
      "WARNING: You are currently using the software variant of concrete-csprng which does not have access to a hardware source of randomness. To ensure the security of your application, please arrange to provide a secret by using the `concrete_csprng::set_soft_rdseed_secret` function.\n",
      "WARNING: You are currently using the software variant of concrete-csprng which does not have access to a hardware source of randomness. To ensure the security of your application, please arrange to provide a secret by using the `concrete_csprng::set_soft_rdseed_secret` function.\n",
      "WARNING: You are currently using the software variant of concrete-csprng which does not have access to a hardware source of randomness. To ensure the security of your application, please arrange to provide a secret by using the `concrete_csprng::set_soft_rdseed_secret` function.\n",
      "WARNING: You are currently using the software variant of concrete-csprng which does not have access to a hardware source of randomness. To ensure the security of your application, please arrange to provide a secret by using the `concrete_csprng::set_soft_rdseed_secret` function.\n",
      "WARNING: You are currently using the software variant of concrete-csprng which does not have access to a hardware source of randomness. To ensure the security of your application, please arrange to provide a secret by using the `concrete_csprng::set_soft_rdseed_secret` function.\n",
      "WARNING: You are currently using the software variant of concrete-csprng which does not have access to a hardware source of randomness. To ensure the security of your application, please arrange to provide a secret by using the `concrete_csprng::set_soft_rdseed_secret` function.\n",
      "WARNING: You are currently using the software variant of concrete-csprng which does not have access to a hardware source of randomness. To ensure the security of your application, please arrange to provide a secret by using the `concrete_csprng::set_soft_rdseed_secret` function.\n",
      "WARNING: You are currently using the software variant of concrete-csprng which does not have access to a hardware source of randomness. To ensure the security of your application, please arrange to provide a secret by using the `concrete_csprng::set_soft_rdseed_secret` function.\n"
     ]
    }
   ],
   "source": [
    "encrypted_lat_1, encrypted_lon_1, encrypted_lat_2, encrypted_lon_2 = keys.encrypt(lat_1, lon_1, lat_2, lon_2)"
   ]
  },
  {
   "cell_type": "markdown",
   "metadata": {},
   "source": [
    "Now, the user can (safely) send her encrypted data to the server, which can run the compiled FHE network, with only public keys"
   ]
  },
  {
   "cell_type": "code",
   "execution_count": 8,
   "metadata": {},
   "outputs": [],
   "source": [
    "encrypted_result = homomorphic_distance_on_earth.run(keys.public_keys, \n",
    "                                                     encrypted_lat_1, encrypted_lon_1, \n",
    "                                                     encrypted_lat_2, encrypted_lon_2)"
   ]
  },
  {
   "cell_type": "markdown",
   "metadata": {},
   "source": [
    "Finally, the encrypted result is returned to the user, who can use her private key to decrypt the content. Her private data has never left her device, her privacy was ensured end-to-end"
   ]
  },
  {
   "cell_type": "code",
   "execution_count": 9,
   "metadata": {},
   "outputs": [],
   "source": [
    "h_distances = keys.decrypt(encrypted_result)"
   ]
  },
  {
   "cell_type": "markdown",
   "metadata": {},
   "source": [
    "Remark that, here, we've used three API (`encrypt`, `run` and `decrypt`) to be clear on how FHE protects your data. For simplicity of tests, we propose a combined `encrypt_and_run` all-in-one call, who's examplified later in this notebook."
   ]
  },
  {
   "cell_type": "markdown",
   "metadata": {},
   "source": [
    "Now let's check on a table the results originally computed and the results computed homomorphically"
   ]
  },
  {
   "cell_type": "code",
   "execution_count": 10,
   "metadata": {},
   "outputs": [
    {
     "data": {
      "text/html": [
       "<div>\n",
       "<style scoped>\n",
       "    .dataframe tbody tr th:only-of-type {\n",
       "        vertical-align: middle;\n",
       "    }\n",
       "\n",
       "    .dataframe tbody tr th {\n",
       "        vertical-align: top;\n",
       "    }\n",
       "\n",
       "    .dataframe thead th {\n",
       "        text-align: right;\n",
       "    }\n",
       "</style>\n",
       "<table border=\"1\" class=\"dataframe\">\n",
       "  <thead>\n",
       "    <tr style=\"text-align: right;\">\n",
       "      <th></th>\n",
       "      <th>Latitude 1</th>\n",
       "      <th>Longitude 1</th>\n",
       "      <th>Latitude 2</th>\n",
       "      <th>Longitude 2</th>\n",
       "      <th>Distances</th>\n",
       "      <th>Homomorphic Distances</th>\n",
       "      <th>Homomorphic Error</th>\n",
       "    </tr>\n",
       "  </thead>\n",
       "  <tbody>\n",
       "    <tr>\n",
       "      <th>0</th>\n",
       "      <td>25.206744</td>\n",
       "      <td>-14.515073</td>\n",
       "      <td>-31.627559</td>\n",
       "      <td>-58.359903</td>\n",
       "      <td>7844.560996</td>\n",
       "      <td>7670.621086</td>\n",
       "      <td>173.939910</td>\n",
       "    </tr>\n",
       "    <tr>\n",
       "      <th>1</th>\n",
       "      <td>-27.964359</td>\n",
       "      <td>-75.514844</td>\n",
       "      <td>89.619949</td>\n",
       "      <td>35.468337</td>\n",
       "      <td>13123.861267</td>\n",
       "      <td>13028.405314</td>\n",
       "      <td>95.455953</td>\n",
       "    </tr>\n",
       "    <tr>\n",
       "      <th>2</th>\n",
       "      <td>57.454310</td>\n",
       "      <td>14.787825</td>\n",
       "      <td>-32.811268</td>\n",
       "      <td>20.217806</td>\n",
       "      <td>10043.691176</td>\n",
       "      <td>10028.809983</td>\n",
       "      <td>14.881193</td>\n",
       "    </tr>\n",
       "    <tr>\n",
       "      <th>3</th>\n",
       "      <td>27.867751</td>\n",
       "      <td>-41.528989</td>\n",
       "      <td>25.288407</td>\n",
       "      <td>-22.259396</td>\n",
       "      <td>1934.298962</td>\n",
       "      <td>2729.711248</td>\n",
       "      <td>795.412286</td>\n",
       "    </tr>\n",
       "    <tr>\n",
       "      <th>4</th>\n",
       "      <td>67.605039</td>\n",
       "      <td>-50.422756</td>\n",
       "      <td>73.003938</td>\n",
       "      <td>-5.919939</td>\n",
       "      <td>1722.546300</td>\n",
       "      <td>1786.052250</td>\n",
       "      <td>63.505950</td>\n",
       "    </tr>\n",
       "    <tr>\n",
       "      <th>5</th>\n",
       "      <td>-35.249784</td>\n",
       "      <td>-23.955815</td>\n",
       "      <td>81.039086</td>\n",
       "      <td>64.071501</td>\n",
       "      <td>13829.771418</td>\n",
       "      <td>13790.071022</td>\n",
       "      <td>39.700396</td>\n",
       "    </tr>\n",
       "    <tr>\n",
       "      <th>6</th>\n",
       "      <td>-18.264875</td>\n",
       "      <td>9.814222</td>\n",
       "      <td>6.200872</td>\n",
       "      <td>86.075344</td>\n",
       "      <td>8781.800437</td>\n",
       "      <td>8740.864024</td>\n",
       "      <td>40.936413</td>\n",
       "    </tr>\n",
       "    <tr>\n",
       "      <th>7</th>\n",
       "      <td>8.460700</td>\n",
       "      <td>-72.898505</td>\n",
       "      <td>-19.995293</td>\n",
       "      <td>-59.676511</td>\n",
       "      <td>3477.177586</td>\n",
       "      <td>3404.515847</td>\n",
       "      <td>72.661739</td>\n",
       "    </tr>\n",
       "    <tr>\n",
       "      <th>8</th>\n",
       "      <td>-15.855408</td>\n",
       "      <td>-10.724262</td>\n",
       "      <td>-58.707055</td>\n",
       "      <td>30.901453</td>\n",
       "      <td>5848.554013</td>\n",
       "      <td>6153.016371</td>\n",
       "      <td>304.462359</td>\n",
       "    </tr>\n",
       "    <tr>\n",
       "      <th>9</th>\n",
       "      <td>56.276932</td>\n",
       "      <td>5.243858</td>\n",
       "      <td>0.450098</td>\n",
       "      <td>9.536852</td>\n",
       "      <td>6215.742654</td>\n",
       "      <td>6260.893912</td>\n",
       "      <td>45.151258</td>\n",
       "    </tr>\n",
       "  </tbody>\n",
       "</table>\n",
       "</div>"
      ],
      "text/plain": [
       "   Latitude 1  Longitude 1  Latitude 2  Longitude 2     Distances  \\\n",
       "0   25.206744   -14.515073  -31.627559   -58.359903   7844.560996   \n",
       "1  -27.964359   -75.514844   89.619949    35.468337  13123.861267   \n",
       "2   57.454310    14.787825  -32.811268    20.217806  10043.691176   \n",
       "3   27.867751   -41.528989   25.288407   -22.259396   1934.298962   \n",
       "4   67.605039   -50.422756   73.003938    -5.919939   1722.546300   \n",
       "5  -35.249784   -23.955815   81.039086    64.071501  13829.771418   \n",
       "6  -18.264875     9.814222    6.200872    86.075344   8781.800437   \n",
       "7    8.460700   -72.898505  -19.995293   -59.676511   3477.177586   \n",
       "8  -15.855408   -10.724262  -58.707055    30.901453   5848.554013   \n",
       "9   56.276932     5.243858    0.450098     9.536852   6215.742654   \n",
       "\n",
       "   Homomorphic Distances  Homomorphic Error  \n",
       "0            7670.621086         173.939910  \n",
       "1           13028.405314          95.455953  \n",
       "2           10028.809983          14.881193  \n",
       "3            2729.711248         795.412286  \n",
       "4            1786.052250          63.505950  \n",
       "5           13790.071022          39.700396  \n",
       "6            8740.864024          40.936413  \n",
       "7            3404.515847          72.661739  \n",
       "8            6153.016371         304.462359  \n",
       "9            6260.893912          45.151258  "
      ]
     },
     "execution_count": 10,
     "metadata": {},
     "output_type": "execute_result"
    }
   ],
   "source": [
    "error = np.abs(h_distances - distances)\n",
    "pd.DataFrame(data=np.vstack((lat_1, lon_1, lat_2, lon_2, distances, h_distances, error)).T, \n",
    "             columns=[\"Latitude 1\", \"Longitude 1\", \"Latitude 2\", \"Longitude 2\", \"Distances\", \n",
    "                      \"Homomorphic Distances\", \"Homomorphic Error\"])"
   ]
  },
  {
   "cell_type": "markdown",
   "metadata": {},
   "source": [
    "We can notice that the error when computing the function homomorphically can get quite large, and the computation itself is much slower. The main challenges with running homomorphic programs is that the computations are much more expensive than the equivalent ones on non-encrypted data, and, additionally, they have very limited precision. As a result, we see both a slowdown and a loss of precision.\n",
    "\n",
    "The homomorphic numpy comes with some tools to allow us to inspect our homomorphic function more closely, in case we want to explore how to improve its performance and precision. By calling `expected_precision()`, we can check what is the theoretical precision we should have, and compare to what is achieve in practice."
   ]
  },
  {
   "cell_type": "code",
   "execution_count": 11,
   "metadata": {},
   "outputs": [
    {
     "name": "stdout",
     "output_type": "stream",
     "text": [
      "Expected precision: ±[1236.37914666549]\n",
      "Mean and standard deviation of the error: 164.61074578941998, 225.52222041281476\n"
     ]
    }
   ],
   "source": [
    "print(f\"Expected precision: ±{homomorphic_distance_on_earth.expected_precision()}\")\n",
    "print(f\"Mean and standard deviation of the error: {np.mean(error)}, {np.std(error)}\")"
   ]
  },
  {
   "cell_type": "markdown",
   "metadata": {},
   "source": [
    "We can also check the computational graphs of our cleartext function:"
   ]
  },
  {
   "cell_type": "code",
   "execution_count": 12,
   "metadata": {},
   "outputs": [
    {
     "data": {
      "image/png": "[encoded data removed]",
      "text/plain": [
       "<Figure size 432x288 with 1 Axes>"
      ]
     },
     "metadata": {},
     "output_type": "display_data"
    }
   ],
   "source": [
    "homomorphic_distance_on_earth.draw_intermediate_graph()"
   ]
  },
  {
   "cell_type": "markdown",
   "metadata": {},
   "source": [
    "...and of the homomorphic equivalent:"
   ]
  },
  {
   "cell_type": "code",
   "execution_count": 13,
   "metadata": {
    "scrolled": true
   },
   "outputs": [
    {
     "data": {
      "image/png": "[encoded data removed]",
      "text/plain": [
       "<Figure size 432x288 with 1 Axes>"
      ]
     },
     "metadata": {},
     "output_type": "display_data"
    }
   ],
   "source": [
    "homomorphic_distance_on_earth.draw_intermediate_graph()"
   ]
  },
  {
   "cell_type": "markdown",
   "metadata": {},
   "source": [
    "### Getting better precision\n",
    "\n",
    "One strategy to get better precision is to restrict our bounds. For instance, if we just want to calculate distances within Europe, we could restrict our bounds to its maximum and minimum latitude and longitude. "
   ]
  },
  {
   "cell_type": "code",
   "execution_count": 14,
   "metadata": {},
   "outputs": [],
   "source": [
    "min_lat, max_lat = 36, 71\n",
    "min_lon, max_lon = -28, 69\n",
    "nb_cities = 20"
   ]
  },
  {
   "cell_type": "code",
   "execution_count": 15,
   "metadata": {},
   "outputs": [
    {
     "name": "stderr",
     "output_type": "stream",
     "text": [
      "2021-10-07 08:18:47.632 | INFO     | hnumpy.convert:compile_fhe:381 - Compiling distance_on_earth into an FHE function\n",
      "2021-10-07 08:18:47.638 | INFO     | hnumpy.convert:compile_fhe:383 - Checking input and output\n",
      "2021-10-07 08:18:47.646 | INFO     | hnumpy.convert:compile_homomorphic:265 - Create target graph\n",
      "2021-10-07 08:18:47.658 | INFO     | hnumpy.convert:compile_homomorphic:270 - Optimize target graph with optimizer `heuristic`\n",
      "2021-10-07 08:18:48.019 | INFO     | hnumpy.convert:compile_homomorphic:284 - Correct encoding\n",
      "2021-10-07 08:18:48.023 | INFO     | hnumpy.convert:compile_homomorphic:290 - Create VM graph\n",
      "2021-10-07 08:18:48.032 | INFO     | hnumpy.convert:compile_homomorphic:306 - Return the result to the caller\n"
     ]
    }
   ],
   "source": [
    "homomorphic_distance_on_earth = hnp.compile_fhe(\n",
    "    distance_on_earth,\n",
    "    {\n",
    "    \"lat1\": hnp.encrypted_ndarray(bounds=(min_lat, max_lat), shape=(nb_cities,)),\n",
    "    \"lon1\": hnp.encrypted_ndarray(bounds=(min_lon, max_lon), shape=(nb_cities,)),\n",
    "    \"lat2\": hnp.encrypted_ndarray(bounds=(min_lat, max_lat), shape=(nb_cities,)),\n",
    "    \"lon2\": hnp.encrypted_ndarray(bounds=(min_lon, max_lon), shape=(nb_cities,)),\n",
    "    }       \n",
    ")"
   ]
  },
  {
   "cell_type": "code",
   "execution_count": 16,
   "metadata": {},
   "outputs": [
    {
     "name": "stderr",
     "output_type": "stream",
     "text": [
      "2021-10-07 08:18:48.055 | INFO     | hnumpy.client:keygen:28 - Creating 1 keyswitching key(s) and 1 bootstrapping key(s). This should take approximately 40 seconds (0.6666666666666666 minutes)\n",
      "2021-10-07 08:37:57.974 | DEBUG    | hnumpy.client:keygen:42 - Key creation time took 1149.8959846040002 seconds\n"
     ]
    },
    {
     "name": "stdout",
     "output_type": "stream",
     "text": [
      "WARNING: You are currently using the software variant of concrete-csprng which does not have access to a hardware source of randomness. To ensure the security of your application, please arrange to provide a secret by using the `concrete_csprng::set_soft_rdseed_secret` function.\n",
      "WARNING: You are currently using the software variant of concrete-csprng which does not have access to a hardware source of randomness. To ensure the security of your application, please arrange to provide a secret by using the `concrete_csprng::set_soft_rdseed_secret` function.\n",
      "WARNING: You are currently using the software variant of concrete-csprng which does not have access to a hardware source of randomness. To ensure the security of your application, please arrange to provide a secret by using the `concrete_csprng::set_soft_rdseed_secret` function.\n",
      "WARNING: You are currently using the software variant of concrete-csprng which does not have access to a hardware source of randomness. To ensure the security of your application, please arrange to provide a secret by using the `concrete_csprng::set_soft_rdseed_secret` function.\n",
      "WARNING: You are currently using the software variant of concrete-csprng which does not have access to a hardware source of randomness. To ensure the security of your application, please arrange to provide a secret by using the `concrete_csprng::set_soft_rdseed_secret` function.\n",
      "WARNING: You are currently using the software variant of concrete-csprng which does not have access to a hardware source of randomness. To ensure the security of your application, please arrange to provide a secret by using the `concrete_csprng::set_soft_rdseed_secret` function.\n"
     ]
    }
   ],
   "source": [
    "context = homomorphic_distance_on_earth.create_context()\n",
    "keys = context.keygen()"
   ]
  },
  {
   "cell_type": "markdown",
   "metadata": {},
   "source": [
    "Now, let's pick some pairs of cities in Europe to measure their distance homomorphically"
   ]
  },
  {
   "cell_type": "code",
   "execution_count": 17,
   "metadata": {
    "scrolled": false
   },
   "outputs": [
    {
     "data": {
      "text/html": [
       "<div>\n",
       "<style scoped>\n",
       "    .dataframe tbody tr th:only-of-type {\n",
       "        vertical-align: middle;\n",
       "    }\n",
       "\n",
       "    .dataframe tbody tr th {\n",
       "        vertical-align: top;\n",
       "    }\n",
       "\n",
       "    .dataframe thead th {\n",
       "        text-align: right;\n",
       "    }\n",
       "</style>\n",
       "<table border=\"1\" class=\"dataframe\">\n",
       "  <thead>\n",
       "    <tr style=\"text-align: right;\">\n",
       "      <th></th>\n",
       "      <th>Latitude 1</th>\n",
       "      <th>Longitude 1</th>\n",
       "      <th>Latitude 2</th>\n",
       "      <th>Longitude 2</th>\n",
       "      <th>Distances</th>\n",
       "    </tr>\n",
       "  </thead>\n",
       "  <tbody>\n",
       "    <tr>\n",
       "      <th>0</th>\n",
       "      <td>58.025332</td>\n",
       "      <td>29.590934</td>\n",
       "      <td>63.110099</td>\n",
       "      <td>-0.870315</td>\n",
       "      <td>1737.234035</td>\n",
       "    </tr>\n",
       "    <tr>\n",
       "      <th>1</th>\n",
       "      <td>57.108802</td>\n",
       "      <td>-18.995845</td>\n",
       "      <td>63.750886</td>\n",
       "      <td>-9.778054</td>\n",
       "      <td>892.720698</td>\n",
       "    </tr>\n",
       "    <tr>\n",
       "      <th>2</th>\n",
       "      <td>63.055196</td>\n",
       "      <td>-14.585061</td>\n",
       "      <td>64.507856</td>\n",
       "      <td>56.039384</td>\n",
       "      <td>3291.084879</td>\n",
       "    </tr>\n",
       "    <tr>\n",
       "      <th>3</th>\n",
       "      <td>67.971868</td>\n",
       "      <td>-13.686694</td>\n",
       "      <td>68.923800</td>\n",
       "      <td>11.092889</td>\n",
       "      <td>1010.040031</td>\n",
       "    </tr>\n",
       "    <tr>\n",
       "      <th>4</th>\n",
       "      <td>70.597399</td>\n",
       "      <td>-5.652870</td>\n",
       "      <td>40.511178</td>\n",
       "      <td>65.478902</td>\n",
       "      <td>5114.193735</td>\n",
       "    </tr>\n",
       "    <tr>\n",
       "      <th>5</th>\n",
       "      <td>65.748132</td>\n",
       "      <td>11.588224</td>\n",
       "      <td>36.058985</td>\n",
       "      <td>58.034903</td>\n",
       "      <td>4450.727749</td>\n",
       "    </tr>\n",
       "    <tr>\n",
       "      <th>6</th>\n",
       "      <td>44.368791</td>\n",
       "      <td>21.600003</td>\n",
       "      <td>48.436459</td>\n",
       "      <td>58.701326</td>\n",
       "      <td>2850.073639</td>\n",
       "    </tr>\n",
       "    <tr>\n",
       "      <th>7</th>\n",
       "      <td>41.625529</td>\n",
       "      <td>-27.663936</td>\n",
       "      <td>51.094636</td>\n",
       "      <td>49.084105</td>\n",
       "      <td>5706.515159</td>\n",
       "    </tr>\n",
       "    <tr>\n",
       "      <th>8</th>\n",
       "      <td>47.021714</td>\n",
       "      <td>50.664306</td>\n",
       "      <td>66.644089</td>\n",
       "      <td>55.541676</td>\n",
       "      <td>2199.017906</td>\n",
       "    </tr>\n",
       "    <tr>\n",
       "      <th>9</th>\n",
       "      <td>50.087743</td>\n",
       "      <td>0.469952</td>\n",
       "      <td>70.965630</td>\n",
       "      <td>8.136365</td>\n",
       "      <td>2353.247143</td>\n",
       "    </tr>\n",
       "    <tr>\n",
       "      <th>10</th>\n",
       "      <td>57.535721</td>\n",
       "      <td>-22.695068</td>\n",
       "      <td>44.214136</td>\n",
       "      <td>22.507467</td>\n",
       "      <td>3416.616220</td>\n",
       "    </tr>\n",
       "    <tr>\n",
       "      <th>11</th>\n",
       "      <td>67.726258</td>\n",
       "      <td>-24.019573</td>\n",
       "      <td>49.270790</td>\n",
       "      <td>12.634474</td>\n",
       "      <td>2876.576167</td>\n",
       "    </tr>\n",
       "    <tr>\n",
       "      <th>12</th>\n",
       "      <td>53.801740</td>\n",
       "      <td>36.359513</td>\n",
       "      <td>48.020105</td>\n",
       "      <td>-8.084574</td>\n",
       "      <td>3125.535713</td>\n",
       "    </tr>\n",
       "    <tr>\n",
       "      <th>13</th>\n",
       "      <td>67.466721</td>\n",
       "      <td>11.339824</td>\n",
       "      <td>52.466106</td>\n",
       "      <td>42.998637</td>\n",
       "      <td>2375.906847</td>\n",
       "    </tr>\n",
       "    <tr>\n",
       "      <th>14</th>\n",
       "      <td>51.772948</td>\n",
       "      <td>-13.808786</td>\n",
       "      <td>40.400281</td>\n",
       "      <td>34.694036</td>\n",
       "      <td>3864.723112</td>\n",
       "    </tr>\n",
       "    <tr>\n",
       "      <th>15</th>\n",
       "      <td>41.692672</td>\n",
       "      <td>-9.964075</td>\n",
       "      <td>54.553278</td>\n",
       "      <td>58.520608</td>\n",
       "      <td>5058.240062</td>\n",
       "    </tr>\n",
       "    <tr>\n",
       "      <th>16</th>\n",
       "      <td>40.344689</td>\n",
       "      <td>12.222485</td>\n",
       "      <td>56.648751</td>\n",
       "      <td>8.747185</td>\n",
       "      <td>1829.185560</td>\n",
       "    </tr>\n",
       "    <tr>\n",
       "      <th>17</th>\n",
       "      <td>63.194774</td>\n",
       "      <td>20.280405</td>\n",
       "      <td>68.607978</td>\n",
       "      <td>-19.989628</td>\n",
       "      <td>1883.601046</td>\n",
       "    </tr>\n",
       "    <tr>\n",
       "      <th>18</th>\n",
       "      <td>58.843388</td>\n",
       "      <td>15.913278</td>\n",
       "      <td>45.392051</td>\n",
       "      <td>64.365191</td>\n",
       "      <td>3529.873566</td>\n",
       "    </tr>\n",
       "    <tr>\n",
       "      <th>19</th>\n",
       "      <td>59.326123</td>\n",
       "      <td>38.658982</td>\n",
       "      <td>66.807636</td>\n",
       "      <td>38.668967</td>\n",
       "      <td>831.384166</td>\n",
       "    </tr>\n",
       "  </tbody>\n",
       "</table>\n",
       "</div>"
      ],
      "text/plain": [
       "    Latitude 1  Longitude 1  Latitude 2  Longitude 2    Distances\n",
       "0    58.025332    29.590934   63.110099    -0.870315  1737.234035\n",
       "1    57.108802   -18.995845   63.750886    -9.778054   892.720698\n",
       "2    63.055196   -14.585061   64.507856    56.039384  3291.084879\n",
       "3    67.971868   -13.686694   68.923800    11.092889  1010.040031\n",
       "4    70.597399    -5.652870   40.511178    65.478902  5114.193735\n",
       "5    65.748132    11.588224   36.058985    58.034903  4450.727749\n",
       "6    44.368791    21.600003   48.436459    58.701326  2850.073639\n",
       "7    41.625529   -27.663936   51.094636    49.084105  5706.515159\n",
       "8    47.021714    50.664306   66.644089    55.541676  2199.017906\n",
       "9    50.087743     0.469952   70.965630     8.136365  2353.247143\n",
       "10   57.535721   -22.695068   44.214136    22.507467  3416.616220\n",
       "11   67.726258   -24.019573   49.270790    12.634474  2876.576167\n",
       "12   53.801740    36.359513   48.020105    -8.084574  3125.535713\n",
       "13   67.466721    11.339824   52.466106    42.998637  2375.906847\n",
       "14   51.772948   -13.808786   40.400281    34.694036  3864.723112\n",
       "15   41.692672    -9.964075   54.553278    58.520608  5058.240062\n",
       "16   40.344689    12.222485   56.648751     8.747185  1829.185560\n",
       "17   63.194774    20.280405   68.607978   -19.989628  1883.601046\n",
       "18   58.843388    15.913278   45.392051    64.365191  3529.873566\n",
       "19   59.326123    38.658982   66.807636    38.668967   831.384166"
      ]
     },
     "execution_count": 17,
     "metadata": {},
     "output_type": "execute_result"
    }
   ],
   "source": [
    "lat_1, lat_2 = np.random.uniform(min_lat, max_lat, size=(2, nb_cities))\n",
    "lon_1, lon_2 = np.random.uniform(min_lon, max_lon, size=(2, nb_cities))\n",
    "distances = distance_on_earth(lat_1, lon_1, lat_2, lon_2)\n",
    "pd.DataFrame(data=np.vstack((lat_1, lon_1, lat_2, lon_2, distances,)).T, \n",
    "             columns=[\"Latitude 1\", \"Longitude 1\", \"Latitude 2\", \"Longitude 2\", \"Distances\"])\n"
   ]
  },
  {
   "cell_type": "markdown",
   "metadata": {},
   "source": [
    "For comparison, we'll compute in the clear and homomorphically. Remark that now, we use combined API `encrypt_and_run`, for the sake of simplify."
   ]
  },
  {
   "cell_type": "code",
   "execution_count": 18,
   "metadata": {},
   "outputs": [
    {
     "name": "stdout",
     "output_type": "stream",
     "text": [
      "WARNING: You are currently using the software variant of concrete-csprng which does not have access to a hardware source of randomness. To ensure the security of your application, please arrange to provide a secret by using the `concrete_csprng::set_soft_rdseed_secret` function.\n",
      "WARNING: You are currently using the software variant of concrete-csprng which does not have access to a hardware source of randomness. To ensure the security of your application, please arrange to provide a secret by using the `concrete_csprng::set_soft_rdseed_secret` function.\n",
      "WARNING: You are currently using the software variant of concrete-csprng which does not have access to a hardware source of randomness. To ensure the security of your application, please arrange to provide a secret by using the `concrete_csprng::set_soft_rdseed_secret` function.\n",
      "WARNING: You are currently using the software variant of concrete-csprng which does not have access to a hardware source of randomness. To ensure the security of your application, please arrange to provide a secret by using the `concrete_csprng::set_soft_rdseed_secret` function.\n",
      "WARNING: You are currently using the software variant of concrete-csprng which does not have access to a hardware source of randomness. To ensure the security of your application, please arrange to provide a secret by using the `concrete_csprng::set_soft_rdseed_secret` function.\n",
      "WARNING: You are currently using the software variant of concrete-csprng which does not have access to a hardware source of randomness. To ensure the security of your application, please arrange to provide a secret by using the `concrete_csprng::set_soft_rdseed_secret` function.\n",
      "WARNING: You are currently using the software variant of concrete-csprng which does not have access to a hardware source of randomness. To ensure the security of your application, please arrange to provide a secret by using the `concrete_csprng::set_soft_rdseed_secret` function.\n",
      "WARNING: You are currently using the software variant of concrete-csprng which does not have access to a hardware source of randomness. To ensure the security of your application, please arrange to provide a secret by using the `concrete_csprng::set_soft_rdseed_secret` function.\n"
     ]
    }
   ],
   "source": [
    "distances = distance_on_earth(lat_1, lon_1, lat_2, lon_2)\n",
    "h_distances = homomorphic_distance_on_earth.encrypt_and_run(keys, lat_1, lon_1, lat_2, lon_2)"
   ]
  },
  {
   "cell_type": "markdown",
   "metadata": {},
   "source": [
    "And, finally, we visualize the results"
   ]
  },
  {
   "cell_type": "code",
   "execution_count": 19,
   "metadata": {},
   "outputs": [
    {
     "data": {
      "text/html": [
       "<div>\n",
       "<style scoped>\n",
       "    .dataframe tbody tr th:only-of-type {\n",
       "        vertical-align: middle;\n",
       "    }\n",
       "\n",
       "    .dataframe tbody tr th {\n",
       "        vertical-align: top;\n",
       "    }\n",
       "\n",
       "    .dataframe thead th {\n",
       "        text-align: right;\n",
       "    }\n",
       "</style>\n",
       "<table border=\"1\" class=\"dataframe\">\n",
       "  <thead>\n",
       "    <tr style=\"text-align: right;\">\n",
       "      <th></th>\n",
       "      <th>Latitude 1</th>\n",
       "      <th>Longitude 1</th>\n",
       "      <th>Latitude 2</th>\n",
       "      <th>Longitude 2</th>\n",
       "      <th>Distances</th>\n",
       "      <th>Homomorphic Distances</th>\n",
       "      <th>Homomorphic Error</th>\n",
       "    </tr>\n",
       "  </thead>\n",
       "  <tbody>\n",
       "    <tr>\n",
       "      <th>0</th>\n",
       "      <td>58.025332</td>\n",
       "      <td>29.590934</td>\n",
       "      <td>63.110099</td>\n",
       "      <td>-0.870315</td>\n",
       "      <td>1737.234035</td>\n",
       "      <td>1614.066042</td>\n",
       "      <td>123.167992</td>\n",
       "    </tr>\n",
       "    <tr>\n",
       "      <th>1</th>\n",
       "      <td>57.108802</td>\n",
       "      <td>-18.995845</td>\n",
       "      <td>63.750886</td>\n",
       "      <td>-9.778054</td>\n",
       "      <td>892.720698</td>\n",
       "      <td>894.176867</td>\n",
       "      <td>1.456169</td>\n",
       "    </tr>\n",
       "    <tr>\n",
       "      <th>2</th>\n",
       "      <td>63.055196</td>\n",
       "      <td>-14.585061</td>\n",
       "      <td>64.507856</td>\n",
       "      <td>56.039384</td>\n",
       "      <td>3291.084879</td>\n",
       "      <td>3323.089978</td>\n",
       "      <td>32.005099</td>\n",
       "    </tr>\n",
       "    <tr>\n",
       "      <th>3</th>\n",
       "      <td>67.971868</td>\n",
       "      <td>-13.686694</td>\n",
       "      <td>68.923800</td>\n",
       "      <td>11.092889</td>\n",
       "      <td>1010.040031</td>\n",
       "      <td>918.982277</td>\n",
       "      <td>91.057754</td>\n",
       "    </tr>\n",
       "    <tr>\n",
       "      <th>4</th>\n",
       "      <td>70.597399</td>\n",
       "      <td>-5.652870</td>\n",
       "      <td>40.511178</td>\n",
       "      <td>65.478902</td>\n",
       "      <td>5114.193735</td>\n",
       "      <td>5119.264270</td>\n",
       "      <td>5.070535</td>\n",
       "    </tr>\n",
       "    <tr>\n",
       "      <th>5</th>\n",
       "      <td>65.748132</td>\n",
       "      <td>11.588224</td>\n",
       "      <td>36.058985</td>\n",
       "      <td>58.034903</td>\n",
       "      <td>4450.727749</td>\n",
       "      <td>0.000272</td>\n",
       "      <td>4450.727477</td>\n",
       "    </tr>\n",
       "    <tr>\n",
       "      <th>6</th>\n",
       "      <td>44.368791</td>\n",
       "      <td>21.600003</td>\n",
       "      <td>48.436459</td>\n",
       "      <td>58.701326</td>\n",
       "      <td>2850.073639</td>\n",
       "      <td>2696.593276</td>\n",
       "      <td>153.480362</td>\n",
       "    </tr>\n",
       "    <tr>\n",
       "      <th>7</th>\n",
       "      <td>41.625529</td>\n",
       "      <td>-27.663936</td>\n",
       "      <td>51.094636</td>\n",
       "      <td>49.084105</td>\n",
       "      <td>5706.515159</td>\n",
       "      <td>5918.713699</td>\n",
       "      <td>212.198541</td>\n",
       "    </tr>\n",
       "    <tr>\n",
       "      <th>8</th>\n",
       "      <td>47.021714</td>\n",
       "      <td>50.664306</td>\n",
       "      <td>66.644089</td>\n",
       "      <td>55.541676</td>\n",
       "      <td>2199.017906</td>\n",
       "      <td>2240.232464</td>\n",
       "      <td>41.214558</td>\n",
       "    </tr>\n",
       "    <tr>\n",
       "      <th>9</th>\n",
       "      <td>50.087743</td>\n",
       "      <td>0.469952</td>\n",
       "      <td>70.965630</td>\n",
       "      <td>8.136365</td>\n",
       "      <td>2353.247143</td>\n",
       "      <td>1886.425018</td>\n",
       "      <td>466.822125</td>\n",
       "    </tr>\n",
       "    <tr>\n",
       "      <th>10</th>\n",
       "      <td>57.535721</td>\n",
       "      <td>-22.695068</td>\n",
       "      <td>44.214136</td>\n",
       "      <td>22.507467</td>\n",
       "      <td>3416.616220</td>\n",
       "      <td>3372.184773</td>\n",
       "      <td>44.431446</td>\n",
       "    </tr>\n",
       "    <tr>\n",
       "      <th>11</th>\n",
       "      <td>67.726258</td>\n",
       "      <td>-24.019573</td>\n",
       "      <td>49.270790</td>\n",
       "      <td>12.634474</td>\n",
       "      <td>2876.576167</td>\n",
       "      <td>2943.039167</td>\n",
       "      <td>66.463000</td>\n",
       "    </tr>\n",
       "    <tr>\n",
       "      <th>12</th>\n",
       "      <td>53.801740</td>\n",
       "      <td>36.359513</td>\n",
       "      <td>48.020105</td>\n",
       "      <td>-8.084574</td>\n",
       "      <td>3125.535713</td>\n",
       "      <td>3273.323473</td>\n",
       "      <td>147.787759</td>\n",
       "    </tr>\n",
       "    <tr>\n",
       "      <th>13</th>\n",
       "      <td>67.466721</td>\n",
       "      <td>11.339824</td>\n",
       "      <td>52.466106</td>\n",
       "      <td>42.998637</td>\n",
       "      <td>2375.906847</td>\n",
       "      <td>2330.424518</td>\n",
       "      <td>45.482329</td>\n",
       "    </tr>\n",
       "    <tr>\n",
       "      <th>14</th>\n",
       "      <td>51.772948</td>\n",
       "      <td>-13.808786</td>\n",
       "      <td>40.400281</td>\n",
       "      <td>34.694036</td>\n",
       "      <td>3864.723112</td>\n",
       "      <td>3831.976389</td>\n",
       "      <td>32.746723</td>\n",
       "    </tr>\n",
       "    <tr>\n",
       "      <th>15</th>\n",
       "      <td>41.692672</td>\n",
       "      <td>-9.964075</td>\n",
       "      <td>54.553278</td>\n",
       "      <td>58.520608</td>\n",
       "      <td>5058.240062</td>\n",
       "      <td>5104.583481</td>\n",
       "      <td>46.343419</td>\n",
       "    </tr>\n",
       "    <tr>\n",
       "      <th>16</th>\n",
       "      <td>40.344689</td>\n",
       "      <td>12.222485</td>\n",
       "      <td>56.648751</td>\n",
       "      <td>8.747185</td>\n",
       "      <td>1829.185560</td>\n",
       "      <td>1969.068408</td>\n",
       "      <td>139.882848</td>\n",
       "    </tr>\n",
       "    <tr>\n",
       "      <th>17</th>\n",
       "      <td>63.194774</td>\n",
       "      <td>20.280405</td>\n",
       "      <td>68.607978</td>\n",
       "      <td>-19.989628</td>\n",
       "      <td>1883.601046</td>\n",
       "      <td>1669.284892</td>\n",
       "      <td>214.316154</td>\n",
       "    </tr>\n",
       "    <tr>\n",
       "      <th>18</th>\n",
       "      <td>58.843388</td>\n",
       "      <td>15.913278</td>\n",
       "      <td>45.392051</td>\n",
       "      <td>64.365191</td>\n",
       "      <td>3529.873566</td>\n",
       "      <td>3420.642454</td>\n",
       "      <td>109.231112</td>\n",
       "    </tr>\n",
       "    <tr>\n",
       "      <th>19</th>\n",
       "      <td>59.326123</td>\n",
       "      <td>38.658982</td>\n",
       "      <td>66.807636</td>\n",
       "      <td>38.668967</td>\n",
       "      <td>831.384166</td>\n",
       "      <td>989.704087</td>\n",
       "      <td>158.319921</td>\n",
       "    </tr>\n",
       "  </tbody>\n",
       "</table>\n",
       "</div>"
      ],
      "text/plain": [
       "    Latitude 1  Longitude 1  Latitude 2  Longitude 2    Distances  \\\n",
       "0    58.025332    29.590934   63.110099    -0.870315  1737.234035   \n",
       "1    57.108802   -18.995845   63.750886    -9.778054   892.720698   \n",
       "2    63.055196   -14.585061   64.507856    56.039384  3291.084879   \n",
       "3    67.971868   -13.686694   68.923800    11.092889  1010.040031   \n",
       "4    70.597399    -5.652870   40.511178    65.478902  5114.193735   \n",
       "5    65.748132    11.588224   36.058985    58.034903  4450.727749   \n",
       "6    44.368791    21.600003   48.436459    58.701326  2850.073639   \n",
       "7    41.625529   -27.663936   51.094636    49.084105  5706.515159   \n",
       "8    47.021714    50.664306   66.644089    55.541676  2199.017906   \n",
       "9    50.087743     0.469952   70.965630     8.136365  2353.247143   \n",
       "10   57.535721   -22.695068   44.214136    22.507467  3416.616220   \n",
       "11   67.726258   -24.019573   49.270790    12.634474  2876.576167   \n",
       "12   53.801740    36.359513   48.020105    -8.084574  3125.535713   \n",
       "13   67.466721    11.339824   52.466106    42.998637  2375.906847   \n",
       "14   51.772948   -13.808786   40.400281    34.694036  3864.723112   \n",
       "15   41.692672    -9.964075   54.553278    58.520608  5058.240062   \n",
       "16   40.344689    12.222485   56.648751     8.747185  1829.185560   \n",
       "17   63.194774    20.280405   68.607978   -19.989628  1883.601046   \n",
       "18   58.843388    15.913278   45.392051    64.365191  3529.873566   \n",
       "19   59.326123    38.658982   66.807636    38.668967   831.384166   \n",
       "\n",
       "    Homomorphic Distances  Homomorphic Error  \n",
       "0             1614.066042         123.167992  \n",
       "1              894.176867           1.456169  \n",
       "2             3323.089978          32.005099  \n",
       "3              918.982277          91.057754  \n",
       "4             5119.264270           5.070535  \n",
       "5                0.000272        4450.727477  \n",
       "6             2696.593276         153.480362  \n",
       "7             5918.713699         212.198541  \n",
       "8             2240.232464          41.214558  \n",
       "9             1886.425018         466.822125  \n",
       "10            3372.184773          44.431446  \n",
       "11            2943.039167          66.463000  \n",
       "12            3273.323473         147.787759  \n",
       "13            2330.424518          45.482329  \n",
       "14            3831.976389          32.746723  \n",
       "15            5104.583481          46.343419  \n",
       "16            1969.068408         139.882848  \n",
       "17            1669.284892         214.316154  \n",
       "18            3420.642454         109.231112  \n",
       "19             989.704087         158.319921  "
      ]
     },
     "execution_count": 19,
     "metadata": {},
     "output_type": "execute_result"
    }
   ],
   "source": [
    "error = np.abs(h_distances - distances)\n",
    "pd.DataFrame(data=np.vstack((lat_1, lon_1, lat_2, lon_2, distances, h_distances, error)).T, \n",
    "             columns=[\"Latitude 1\", \"Longitude 1\", \"Latitude 2\", \"Longitude 2\", \"Distances\", \n",
    "                      \"Homomorphic Distances\", \"Homomorphic Error\"])"
   ]
  },
  {
   "cell_type": "markdown",
   "metadata": {},
   "source": [
    "We can check that if the results are within the expected error:"
   ]
  },
  {
   "cell_type": "code",
   "execution_count": 20,
   "metadata": {},
   "outputs": [
    {
     "name": "stdout",
     "output_type": "stream",
     "text": [
      "Expected precision: ±[593.221705254558]\n",
      "Mean and standard deviation of the error: 329.11026621437225, 951.08991158048\n"
     ]
    }
   ],
   "source": [
    "print(f\"Expected precision: ±{homomorphic_distance_on_earth.expected_precision()}\")\n",
    "print(f\"Mean and standard deviation of the error: {np.mean(error)}, {np.std(error)}\")"
   ]
  },
  {
   "cell_type": "code",
   "execution_count": null,
   "metadata": {},
   "outputs": [],
   "source": []
  }
 ],
 "metadata": {
  "kernelspec": {
   "display_name": "Python 3 (ipykernel)",
   "language": "python",
   "name": "python3"
  },
  "language_info": {
   "codemirror_mode": {
    "name": "ipython",
    "version": 3
   },
   "file_extension": ".py",
   "mimetype": "text/x-python",
   "name": "python",
   "nbconvert_exporter": "python",
   "pygments_lexer": "ipython3",
   "version": "3.8.10"
  }
 },
 "nbformat": 4,
 "nbformat_minor": 2
}
