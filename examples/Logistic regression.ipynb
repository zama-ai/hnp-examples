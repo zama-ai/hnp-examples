{
 "cells": [
  {
   "cell_type": "code",
   "execution_count": 1,
   "metadata": {},
   "outputs": [],
   "source": [
    "import numpy as np\n",
    "import hnumpy as hnp\n",
    "import torch\n",
    "import pandas as pd\n",
    "import random\n",
    "import matplotlib.pyplot as plt\n",
    "from time import time"
   ]
  },
  {
   "cell_type": "code",
   "execution_count": 2,
   "metadata": {},
   "outputs": [],
   "source": [
    "torch.random.manual_seed(73)\n",
    "random.seed(73)\n",
    "\n",
    "\n",
    "def split_train_test(x, y, test_ratio=0.3):\n",
    "    idxs = [i for i in range(len(x))]\n",
    "    random.shuffle(idxs)\n",
    "    # delimiter between test and train data\n",
    "    delim = int(len(x) * test_ratio)\n",
    "    test_idxs, train_idxs = idxs[:delim], idxs[delim:]\n",
    "    return x[train_idxs], y[train_idxs], x[test_idxs], y[test_idxs]\n",
    "\n",
    "\n",
    "def heart_disease_data():\n",
    "    data = pd.read_csv(\"./data/framingham.csv\")\n",
    "    # drop rows with missing values\n",
    "    data = data.dropna()\n",
    "    # drop some features\n",
    "    data = data.drop(columns=[\"education\", \"currentSmoker\", \"BPMeds\", \"diabetes\", \"diaBP\", \"BMI\"])\n",
    "    # balance data\n",
    "    grouped = data.groupby('TenYearCHD')\n",
    "    data = grouped.apply(lambda x: x.sample(grouped.size().min(), random_state=73).reset_index(drop=True))\n",
    "    # extract labels\n",
    "    y = torch.tensor(data[\"TenYearCHD\"].values).float().unsqueeze(1)\n",
    "    data = data.drop(\"TenYearCHD\", 'columns')\n",
    "    # standardize data\n",
    "    data = (data - data.mean()) / data.std()\n",
    "    x = torch.tensor(data.values).float()\n",
    "    return split_train_test(x, y)\n",
    "\n",
    "x_train, y_train, x_test, y_test = heart_disease_data()"
   ]
  },
  {
   "cell_type": "code",
   "execution_count": 3,
   "metadata": {},
   "outputs": [],
   "source": [
    "# define the number of epochs for both plain and encrypted training\n",
    "EPOCHS = 5\n",
    "\n",
    "\n",
    "class LR(torch.nn.Module):\n",
    "\n",
    "    def __init__(self, n_features):\n",
    "        super(LR, self).__init__()\n",
    "        self.lr = torch.nn.Linear(n_features, 1)\n",
    "        \n",
    "    def forward(self, x):\n",
    "        out = torch.sigmoid(self.lr(x))\n",
    "        return out\n",
    "    \n",
    "    \n",
    "def train(model, optim, criterion, x, y, epochs=EPOCHS):\n",
    "    for e in range(1, epochs + 1):\n",
    "        optim.zero_grad()\n",
    "        out = model(x)\n",
    "        loss = criterion(out, y)\n",
    "        loss.backward()\n",
    "        optim.step()\n",
    "        print(f\"Loss at epoch {e}: {loss.data}\")\n",
    "    return model\n",
    "    \n",
    "\n",
    "n_features = x_train.shape[1]\n",
    "model = LR(n_features)\n",
    "# use gradient descent with a learning_rate=1\n",
    "optim = torch.optim.SGD(model.parameters(), lr=1)\n",
    "# use Binary Cross Entropy Loss\n",
    "criterion = torch.nn.BCELoss()"
   ]
  },
  {
   "cell_type": "code",
   "execution_count": 4,
   "metadata": {},
   "outputs": [
    {
     "name": "stdout",
     "output_type": "stream",
     "text": [
      "Loss at epoch 1: 0.8504331707954407\n",
      "Loss at epoch 2: 0.6863385438919067\n",
      "Loss at epoch 3: 0.6358115077018738\n",
      "Loss at epoch 4: 0.6193529367446899\n",
      "Loss at epoch 5: 0.6124349236488342\n"
     ]
    }
   ],
   "source": [
    "model = train(model, optim, criterion, x_train, y_train)"
   ]
  },
  {
   "cell_type": "markdown",
   "metadata": {},
   "source": [
    "## Encrypted inference"
   ]
  },
  {
   "cell_type": "code",
   "execution_count": 5,
   "metadata": {},
   "outputs": [],
   "source": [
    "# extract weights from model\n",
    "w = np.array(model.lr.weight.flatten().tolist())\n",
    "b = model.lr.bias.flatten().tolist()[0]"
   ]
  },
  {
   "cell_type": "code",
   "execution_count": 6,
   "metadata": {},
   "outputs": [],
   "source": [
    "# use [-1, 1] because of normalization\n",
    "DATA_RANGE = (-1., 1.)\n",
    "\n",
    "INPUT_SIZE = x_test.shape[1]"
   ]
  },
  {
   "cell_type": "code",
   "execution_count": 7,
   "metadata": {},
   "outputs": [
    {
     "name": "stderr",
     "output_type": "stream",
     "text": [
      "2021-06-02 11:31:24.687 | INFO     | hnumpy.convert:compile_fhe:360 - Compiling plain_inference into an FHE function\n",
      "2021-06-02 11:31:24.688 | INFO     | hnumpy.convert:compile_fhe:362 - Checking input and output\n",
      "2021-06-02 11:31:24.690 | INFO     | hnumpy.convert:compile_homomorphic:253 - Create target graph\n",
      "2021-06-02 11:31:24.692 | INFO     | hnumpy.convert:compile_homomorphic:258 - Optimize target graph with optimizer `handselected`\n",
      "2021-06-02 11:31:24.702 | INFO     | hnumpy.convert:compile_homomorphic:271 - Correct encoding\n",
      "2021-06-02 11:31:24.703 | INFO     | hnumpy.convert:compile_homomorphic:274 - Create VM graph\n",
      "2021-06-02 11:31:24.705 | INFO     | hnumpy.convert:compile_homomorphic:290 - Return the result to the caller\n"
     ]
    }
   ],
   "source": [
    "def plain_inference(x):\n",
    "    x = np.dot(x, w) + b\n",
    "    return 1 / (1 + np.exp(-x))\n",
    "\n",
    "# compile the function\n",
    "h = hnp.compile_fhe(\n",
    "    plain_inference,\n",
    "    {\"x\": hnp.encrypted_ndarray(bounds=DATA_RANGE, shape=(INPUT_SIZE,))},\n",
    ")"
   ]
  },
  {
   "cell_type": "code",
   "execution_count": 8,
   "metadata": {},
   "outputs": [
    {
     "name": "stderr",
     "output_type": "stream",
     "text": [
      "2021-06-02 11:31:24.713 | INFO     | hnumpy.client:keygen:28 - Creating 0 keyswitching key(s) and 1 bootstrapping key(s). This should take approximately 30 seconds (0.5 minutes)\n",
      "2021-06-02 11:31:59.692 | DEBUG    | hnumpy.client:keygen:42 - Key creation time took 34.978072094000005 seconds\n"
     ]
    }
   ],
   "source": [
    "context = h.create_context()\n",
    "keys = context.keygen()"
   ]
  },
  {
   "cell_type": "code",
   "execution_count": 9,
   "metadata": {},
   "outputs": [
    {
     "name": "stdout",
     "output_type": "stream",
     "text": [
      "encrypted result: 0.30971041252842174\n",
      "plain result: 0.31867577660459656\n"
     ]
    }
   ],
   "source": [
    "# run encrypted inference / plain inference\n",
    "x = np.array(x_test[0].tolist())\n",
    "h_result = h.encrypt_and_run(keys, x)[0]\n",
    "expected_result = plain_inference(x)\n",
    "print(f\"encrypted result: {h_result}\")\n",
    "print(f\"plain result: {expected_result}\")"
   ]
  },
  {
   "cell_type": "code",
   "execution_count": 10,
   "metadata": {},
   "outputs": [
    {
     "data": {
      "image/png": "[encoded data removed]",
      "text/plain": [
       "<Figure size 432x288 with 1 Axes>"
      ]
     },
     "metadata": {},
     "output_type": "display_data"
    }
   ],
   "source": [
    "h.draw_intermediate_graph()"
   ]
  },
  {
   "cell_type": "code",
   "execution_count": 11,
   "metadata": {},
   "outputs": [
    {
     "data": {
      "image/png": "[encoded data removed]",
      "text/plain": [
       "<Figure size 432x288 with 1 Axes>"
      ]
     },
     "metadata": {},
     "output_type": "display_data"
    }
   ],
   "source": [
    "h.draw_intermediate_graph()"
   ]
  },
  {
   "cell_type": "code",
   "execution_count": 12,
   "metadata": {},
   "outputs": [
    {
     "name": "stdout",
     "output_type": "stream",
     "text": [
      "took 39.18sec (0.11731217721265233sec per inference) to evaluate the test set homomorphically (334 examples)\n"
     ]
    }
   ],
   "source": [
    "plain_outputs = []\n",
    "encrypted_outputs = []\n",
    "\n",
    "# encrypted\n",
    "tick = time()\n",
    "for x in x_test:\n",
    "    x = np.array(x.tolist())\n",
    "    h_result = h.encrypt_and_run(keys, x)[0]\n",
    "    encrypted_outputs.append(h_result)\n",
    "tock = time()\n",
    "print(f\"took {tock - tick:0.2f}sec ({(tock - tick) / len(x_test)}sec per inference) to evaluate the test set homomorphically ({len(encrypted_outputs)} examples)\")\n",
    "\n",
    "# plain\n",
    "for x in x_test:\n",
    "    x = np.array(x.tolist())\n",
    "    expected_result = plain_inference(x)\n",
    "    plain_outputs.append(expected_result)"
   ]
  },
  {
   "cell_type": "code",
   "execution_count": 13,
   "metadata": {},
   "outputs": [
    {
     "name": "stdout",
     "output_type": "stream",
     "text": [
      "Difference between plain and encrypted outputs:\n",
      "mean / std = 0.013759283037795687 / 0.08014240358942079\n",
      "max / min = 0.8777918911117742 / 3.587512807490256e-05\n",
      "count of > 0.1 = 3\n"
     ]
    },
    {
     "data": {
      "image/png": "[encoded data removed]",
      "text/plain": [
       "<Figure size 432x288 with 1 Axes>"
      ]
     },
     "metadata": {
      "needs_background": "light"
     },
     "output_type": "display_data"
    }
   ],
   "source": [
    "diff = np.abs(np.array(plain_outputs) - np.array(encrypted_outputs))\n",
    "print(\"Difference between plain and encrypted outputs:\")\n",
    "print(f\"mean / std = {diff.mean()} / {diff.std()}\")\n",
    "print(f\"max / min = {diff.max()} / {diff.min()}\")\n",
    "print(f\"count of > 0.1 = {np.sum(diff > 0.1)}\")\n",
    "_ = plt.plot(diff)"
   ]
  },
  {
   "cell_type": "code",
   "execution_count": 14,
   "metadata": {},
   "outputs": [
    {
     "name": "stdout",
     "output_type": "stream",
     "text": [
      "Accuracies: plain = 70% / encrypted = 69% (diff = 0.011976047904191711)\n"
     ]
    }
   ],
   "source": [
    "def accuracy(y_out, y_correct):\n",
    "    labels = (np.array(y_out) >= 0.5).astype(np.float64)\n",
    "    return np.sum(labels == y_correct) / len(y_correct)\n",
    "\n",
    "correct = np.array(y_test.flatten().tolist())\n",
    "plain_acc = accuracy(plain_outputs, correct)\n",
    "enc_acc = accuracy(encrypted_outputs, correct)\n",
    "print(f\"Accuracies: plain = {int(plain_acc * 100)}% / encrypted = {int(enc_acc * 100)}% (diff = {plain_acc - enc_acc})\")"
   ]
  },
  {
   "cell_type": "code",
   "execution_count": null,
   "metadata": {},
   "outputs": [],
   "source": []
  }
 ],
 "metadata": {},
 "nbformat": 4,
 "nbformat_minor": 2
}